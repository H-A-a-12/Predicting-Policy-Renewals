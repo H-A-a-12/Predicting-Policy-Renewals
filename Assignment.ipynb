{
 "cells": [
  {
   "cell_type": "markdown",
   "metadata": {},
   "source": [
    "# Predicting Policy Renewals"
   ]
  },
  {
   "cell_type": "markdown",
   "metadata": {},
   "source": [
    "\n",
    "\n",
    "Problem Statemnet: Our client's business model is centered on policy subscriptions and as a result, renewals are critical to the company’s success. In this assignment you will predict policy renewal. The dataset provided contains dummy renewal information for 690 renewals.\n"
   ]
  },
  {
   "cell_type": "code",
   "execution_count": 59,
   "metadata": {},
   "outputs": [],
   "source": [
    "# Importing necessary package for creating model\n",
    "import pandas as pd\n",
    "import numpy as np\n",
    "from sklearn.linear_model import LinearRegression\n",
    "from sklearn.model_selection import train_test_split\n",
    "from sklearn.linear_model import LogisticRegression \n",
    "from sklearn.ensemble import RandomForestClassifier\n",
    "from sklearn.tree import DecisionTreeClassifier\n",
    "from sklearn.metrics import classification_report, confusion_matrix\n",
    "from sklearn.model_selection import cross_val_score\n",
    "from time import time\n",
    "from sklearn.preprocessing import LabelEncoder\n",
    "import matplotlib.pyplot as plt\n",
    "from sklearn.model_selection import GridSearchCV"
   ]
  },
  {
   "cell_type": "code",
   "execution_count": 60,
   "metadata": {},
   "outputs": [],
   "source": [
    "df=pd.read_csv('data.csv')"
   ]
  },
  {
   "cell_type": "code",
   "execution_count": 61,
   "metadata": {},
   "outputs": [
    {
     "data": {
      "text/plain": [
       "C1         0\n",
       "C2         0\n",
       "C3         0\n",
       "C4         0\n",
       "C5         0\n",
       "C6         0\n",
       "C7         0\n",
       "C8         0\n",
       "C9         0\n",
       "C10        0\n",
       "C11        0\n",
       "C12        0\n",
       "C13        0\n",
       "C14        0\n",
       "C15        0\n",
       "Renewal    0\n",
       "dtype: int64"
      ]
     },
     "execution_count": 61,
     "metadata": {},
     "output_type": "execute_result"
    }
   ],
   "source": [
    "df.isnull().sum()"
   ]
  },
  {
   "cell_type": "code",
   "execution_count": 62,
   "metadata": {},
   "outputs": [
    {
     "data": {
      "text/html": [
       "<div>\n",
       "<style scoped>\n",
       "    .dataframe tbody tr th:only-of-type {\n",
       "        vertical-align: middle;\n",
       "    }\n",
       "\n",
       "    .dataframe tbody tr th {\n",
       "        vertical-align: top;\n",
       "    }\n",
       "\n",
       "    .dataframe thead th {\n",
       "        text-align: right;\n",
       "    }\n",
       "</style>\n",
       "<table border=\"1\" class=\"dataframe\">\n",
       "  <thead>\n",
       "    <tr style=\"text-align: right;\">\n",
       "      <th></th>\n",
       "      <th>C1</th>\n",
       "      <th>C2</th>\n",
       "      <th>C3</th>\n",
       "      <th>C4</th>\n",
       "      <th>C5</th>\n",
       "      <th>C6</th>\n",
       "      <th>C7</th>\n",
       "      <th>C8</th>\n",
       "      <th>C9</th>\n",
       "      <th>C10</th>\n",
       "      <th>C11</th>\n",
       "      <th>C12</th>\n",
       "      <th>C13</th>\n",
       "      <th>C14</th>\n",
       "      <th>C15</th>\n",
       "      <th>Renewal</th>\n",
       "    </tr>\n",
       "  </thead>\n",
       "  <tbody>\n",
       "    <tr>\n",
       "      <th>0</th>\n",
       "      <td>b</td>\n",
       "      <td>30.83</td>\n",
       "      <td>0.000</td>\n",
       "      <td>u</td>\n",
       "      <td>g</td>\n",
       "      <td>w</td>\n",
       "      <td>v</td>\n",
       "      <td>1.25</td>\n",
       "      <td>t</td>\n",
       "      <td>t</td>\n",
       "      <td>1</td>\n",
       "      <td>f</td>\n",
       "      <td>g</td>\n",
       "      <td>202</td>\n",
       "      <td>0</td>\n",
       "      <td>1</td>\n",
       "    </tr>\n",
       "    <tr>\n",
       "      <th>1</th>\n",
       "      <td>a</td>\n",
       "      <td>58.67</td>\n",
       "      <td>4.460</td>\n",
       "      <td>u</td>\n",
       "      <td>g</td>\n",
       "      <td>q</td>\n",
       "      <td>h</td>\n",
       "      <td>3.04</td>\n",
       "      <td>t</td>\n",
       "      <td>t</td>\n",
       "      <td>6</td>\n",
       "      <td>f</td>\n",
       "      <td>g</td>\n",
       "      <td>43</td>\n",
       "      <td>560</td>\n",
       "      <td>1</td>\n",
       "    </tr>\n",
       "    <tr>\n",
       "      <th>2</th>\n",
       "      <td>a</td>\n",
       "      <td>24.5</td>\n",
       "      <td>0.500</td>\n",
       "      <td>u</td>\n",
       "      <td>g</td>\n",
       "      <td>q</td>\n",
       "      <td>h</td>\n",
       "      <td>1.50</td>\n",
       "      <td>t</td>\n",
       "      <td>f</td>\n",
       "      <td>0</td>\n",
       "      <td>f</td>\n",
       "      <td>g</td>\n",
       "      <td>280</td>\n",
       "      <td>824</td>\n",
       "      <td>1</td>\n",
       "    </tr>\n",
       "    <tr>\n",
       "      <th>3</th>\n",
       "      <td>b</td>\n",
       "      <td>27.83</td>\n",
       "      <td>1.540</td>\n",
       "      <td>u</td>\n",
       "      <td>g</td>\n",
       "      <td>w</td>\n",
       "      <td>v</td>\n",
       "      <td>3.75</td>\n",
       "      <td>t</td>\n",
       "      <td>t</td>\n",
       "      <td>5</td>\n",
       "      <td>t</td>\n",
       "      <td>g</td>\n",
       "      <td>100</td>\n",
       "      <td>3</td>\n",
       "      <td>1</td>\n",
       "    </tr>\n",
       "    <tr>\n",
       "      <th>4</th>\n",
       "      <td>b</td>\n",
       "      <td>20.17</td>\n",
       "      <td>5.625</td>\n",
       "      <td>u</td>\n",
       "      <td>g</td>\n",
       "      <td>w</td>\n",
       "      <td>v</td>\n",
       "      <td>1.71</td>\n",
       "      <td>t</td>\n",
       "      <td>f</td>\n",
       "      <td>0</td>\n",
       "      <td>f</td>\n",
       "      <td>s</td>\n",
       "      <td>120</td>\n",
       "      <td>0</td>\n",
       "      <td>1</td>\n",
       "    </tr>\n",
       "  </tbody>\n",
       "</table>\n",
       "</div>"
      ],
      "text/plain": [
       "  C1     C2     C3 C4 C5 C6 C7    C8 C9 C10  C11 C12 C13  C14  C15  Renewal\n",
       "0  b  30.83  0.000  u  g  w  v  1.25  t   t    1   f   g  202    0        1\n",
       "1  a  58.67  4.460  u  g  q  h  3.04  t   t    6   f   g   43  560        1\n",
       "2  a   24.5  0.500  u  g  q  h  1.50  t   f    0   f   g  280  824        1\n",
       "3  b  27.83  1.540  u  g  w  v  3.75  t   t    5   t   g  100    3        1\n",
       "4  b  20.17  5.625  u  g  w  v  1.71  t   f    0   f   s  120    0        1"
      ]
     },
     "execution_count": 62,
     "metadata": {},
     "output_type": "execute_result"
    }
   ],
   "source": [
    "df.head()"
   ]
  },
  {
   "cell_type": "code",
   "execution_count": 63,
   "metadata": {
    "scrolled": true
   },
   "outputs": [
    {
     "data": {
      "text/plain": [
       "(690, 16)"
      ]
     },
     "execution_count": 63,
     "metadata": {},
     "output_type": "execute_result"
    }
   ],
   "source": [
    "df.shape"
   ]
  },
  {
   "cell_type": "code",
   "execution_count": 64,
   "metadata": {
    "scrolled": true
   },
   "outputs": [
    {
     "data": {
      "text/plain": [
       "Index(['C1', 'C2', 'C3', 'C4', 'C5', 'C6', 'C7', 'C8', 'C9', 'C10', 'C11',\n",
       "       'C12', 'C13', 'C14', 'C15', 'Renewal'],\n",
       "      dtype='object')"
      ]
     },
     "execution_count": 64,
     "metadata": {},
     "output_type": "execute_result"
    }
   ],
   "source": [
    "df.columns"
   ]
  },
  {
   "cell_type": "code",
   "execution_count": 65,
   "metadata": {},
   "outputs": [
    {
     "name": "stdout",
     "output_type": "stream",
     "text": [
      "<class 'pandas.core.frame.DataFrame'>\n",
      "RangeIndex: 690 entries, 0 to 689\n",
      "Data columns (total 16 columns):\n",
      " #   Column   Non-Null Count  Dtype  \n",
      "---  ------   --------------  -----  \n",
      " 0   C1       690 non-null    object \n",
      " 1   C2       690 non-null    object \n",
      " 2   C3       690 non-null    float64\n",
      " 3   C4       690 non-null    object \n",
      " 4   C5       690 non-null    object \n",
      " 5   C6       690 non-null    object \n",
      " 6   C7       690 non-null    object \n",
      " 7   C8       690 non-null    float64\n",
      " 8   C9       690 non-null    object \n",
      " 9   C10      690 non-null    object \n",
      " 10  C11      690 non-null    int64  \n",
      " 11  C12      690 non-null    object \n",
      " 12  C13      690 non-null    object \n",
      " 13  C14      690 non-null    object \n",
      " 14  C15      690 non-null    int64  \n",
      " 15  Renewal  690 non-null    int64  \n",
      "dtypes: float64(2), int64(3), object(11)\n",
      "memory usage: 86.4+ KB\n"
     ]
    }
   ],
   "source": [
    "df.info()"
   ]
  },
  {
   "cell_type": "code",
   "execution_count": 66,
   "metadata": {},
   "outputs": [
    {
     "data": {
      "text/plain": [
       "C1         0\n",
       "C2         0\n",
       "C3         0\n",
       "C4         0\n",
       "C5         0\n",
       "C6         0\n",
       "C7         0\n",
       "C8         0\n",
       "C9         0\n",
       "C10        0\n",
       "C11        0\n",
       "C12        0\n",
       "C13        0\n",
       "C14        0\n",
       "C15        0\n",
       "Renewal    0\n",
       "dtype: int64"
      ]
     },
     "execution_count": 66,
     "metadata": {},
     "output_type": "execute_result"
    }
   ],
   "source": [
    "df.isna().sum()"
   ]
  },
  {
   "cell_type": "code",
   "execution_count": 67,
   "metadata": {},
   "outputs": [
    {
     "data": {
      "text/plain": [
       "C1          object\n",
       "C2          object\n",
       "C3         float64\n",
       "C4          object\n",
       "C5          object\n",
       "C6          object\n",
       "C7          object\n",
       "C8         float64\n",
       "C9          object\n",
       "C10         object\n",
       "C11          int64\n",
       "C12         object\n",
       "C13         object\n",
       "C14         object\n",
       "C15          int64\n",
       "Renewal      int64\n",
       "dtype: object"
      ]
     },
     "execution_count": 67,
     "metadata": {},
     "output_type": "execute_result"
    }
   ],
   "source": [
    "df.dtypes"
   ]
  },
  {
   "cell_type": "markdown",
   "metadata": {},
   "source": [
    "Find out the categorical and Numerical coulmns in the dataset:"
   ]
  },
  {
   "cell_type": "code",
   "execution_count": 68,
   "metadata": {},
   "outputs": [
    {
     "name": "stdout",
     "output_type": "stream",
     "text": [
      "\n",
      "Numeric columns\n",
      "['C2', 'C3', 'C8', 'C14', 'C15', 'Renewal']\n",
      "\n",
      "Categorical columns\n",
      "['C1', 'C4', 'C5', 'C6', 'C7', 'C9', 'C10', 'C11', 'C12', 'C13']\n"
     ]
    }
   ],
   "source": [
    "all_columns         = list(df)\n",
    "numeric_columns     = ['C2', 'C3', 'C8','C14','C15','Renewal']\n",
    "categorical_columns = [x for x in all_columns if x not in numeric_columns ]\n",
    "\n",
    "print('\\nNumeric columns')\n",
    "print(numeric_columns)\n",
    "print('\\nCategorical columns')\n",
    "print(categorical_columns)"
   ]
  },
  {
   "cell_type": "markdown",
   "metadata": {},
   "source": [
    "Handling the special character in the dataset . we are taking the Assumption , special character in the Categorical variable is handle with XYZ value , Numerical Variable is handle with 0."
   ]
  },
  {
   "cell_type": "code",
   "execution_count": 69,
   "metadata": {},
   "outputs": [],
   "source": [
    "def remove_special_character(val):\n",
    "    if val[0] in categorical_columns:\n",
    "        for i in df[val]:\n",
    "            #print(i)\n",
    "            df[i].mask(df[i] == '?','xyz', inplace=True)\n",
    "    else:\n",
    "        for i in df[val]:\n",
    "            #print(i)\n",
    "            df[i].mask(df[i] == '?',0, inplace=True)"
   ]
  },
  {
   "cell_type": "code",
   "execution_count": 70,
   "metadata": {
    "scrolled": true
   },
   "outputs": [
    {
     "name": "stderr",
     "output_type": "stream",
     "text": [
      "c:\\users\\lenovo\\appdata\\local\\programs\\python\\python36\\lib\\site-packages\\pandas\\core\\ops\\array_ops.py:253: FutureWarning: elementwise comparison failed; returning scalar instead, but in the future will perform elementwise comparison\n",
      "  res_values = method(rvalues)\n"
     ]
    }
   ],
   "source": [
    "remove_special_character(categorical_columns)\n",
    "remove_special_character(numeric_columns)"
   ]
  },
  {
   "cell_type": "code",
   "execution_count": 71,
   "metadata": {},
   "outputs": [
    {
     "data": {
      "text/plain": [
       "0      202\n",
       "1       43\n",
       "2      280\n",
       "3      100\n",
       "4      120\n",
       "      ... \n",
       "685    260\n",
       "686    200\n",
       "687    200\n",
       "688    280\n",
       "689      0\n",
       "Name: C14, Length: 690, dtype: int64"
      ]
     },
     "execution_count": 71,
     "metadata": {},
     "output_type": "execute_result"
    }
   ],
   "source": [
    "df['C2'].astype('float64')\n",
    "df['C14'].astype('int64')"
   ]
  },
  {
   "cell_type": "markdown",
   "metadata": {},
   "source": [
    "# Analysis"
   ]
  },
  {
   "cell_type": "markdown",
   "metadata": {},
   "source": [
    "Analysis play's the vital role to understand the dataset . In the below function we are trying to understand the Independent variable to know what are the ratio 1's and 0's in the dataset . We have used the various analysis such as pie chart , count plot etc. "
   ]
  },
  {
   "cell_type": "code",
   "execution_count": 72,
   "metadata": {},
   "outputs": [],
   "source": [
    "# Let's construct a function that shows the summary and density distribution of a numerical attribute:\n",
    "def summary(x):\n",
    "    x_min = df[x].min()\n",
    "    x_max = df[x].max()\n",
    "    Q1 = df[x].quantile(0.25)\n",
    "    Q2 = df[x].quantile(0.50)\n",
    "    Q3 = df[x].quantile(0.75)\n",
    "    print(f'5 Point Summary of {x.capitalize()} Attribute:\\n'\n",
    "          f'{x.capitalize()}(min) : {x_min}\\n'\n",
    "          f'Q1                    : {Q1}\\n'\n",
    "          f'Q2(Median)            : {Q2}\\n'\n",
    "          f'Q3                    : {Q3}\\n'\n",
    "          f'{x.capitalize()}(max) : {x_max}')\n",
    "\n",
    "    fig = plt.figure(figsize=(16, 10))\n",
    "    plt.subplots_adjust(hspace = 0.6)#the amount of height reserved for space between subplots,\n",
    "    sns.set_palette('red')\n",
    "    \n",
    "    plt.subplot(221)\n",
    "    ax1 = sns.distplot(df[x], color = 'r')\n",
    "    plt.title(f'{x.capitalize()} Density Distribution')\n",
    "    \n",
    "    plt.subplot(222)\n",
    "    ax2 = sns.violinplot(x = df[x], palette = 'Accent', split = True)\n",
    "    plt.title(f'{x.capitalize()} Violinplot')\n",
    "    \n",
    "    plt.subplot(223)\n",
    "    ax2 = sns.boxplot(x=df[x], palette = 'cool', width=0.7, linewidth=0.6)\n",
    "    plt.title(f'{x.capitalize()} Boxplot')\n",
    "    \n",
    "    plt.subplot(224)\n",
    "    ax3 = sns.kdeplot(df[x], cumulative=True)\n",
    "    plt.title(f'{x.capitalize()} Cumulative Density Distribution')\n",
    "    \n",
    "    plt.show()"
   ]
  },
  {
   "cell_type": "code",
   "execution_count": 73,
   "metadata": {
    "scrolled": false
   },
   "outputs": [
    {
     "data": {
      "text/plain": [
       "Text(0, 0.5, 'count')"
      ]
     },
     "execution_count": 73,
     "metadata": {},
     "output_type": "execute_result"
    },
    {
     "data": {
      "image/png": "[encoded data removed]",
      "text/plain": [
       "<Figure size 864x576 with 1 Axes>"
      ]
     },
     "metadata": {
      "needs_background": "light"
     },
     "output_type": "display_data"
    }
   ],
   "source": [
    "import seaborn as sns \n",
    "import matplotlib.pyplot as plt \n",
    "plt.figure(figsize = (12,8))\n",
    "g = sns.countplot(x=\"Renewal\",data=df,palette='hls')\n",
    "g.set_title(\"Renewal and Non-Renewal\", fontsize=20)\n",
    "g.set_xlabel(\"Renewal\", fontsize=15)\n",
    "g.set_ylabel(\"count\", fontsize=20)\n"
   ]
  },
  {
   "cell_type": "markdown",
   "metadata": {},
   "source": [
    "Count Plot gives the insights that target variable in the dataset is inbalanced "
   ]
  },
  {
   "cell_type": "code",
   "execution_count": 74,
   "metadata": {
    "scrolled": true
   },
   "outputs": [
    {
     "name": "stdout",
     "output_type": "stream",
     "text": [
      "5 Point Summary of Renewal Attribute:\n",
      "Renewal(min) : 0\n",
      "Q1                    : 0.0\n",
      "Q2(Median)            : 0.0\n",
      "Q3                    : 1.0\n",
      "Renewal(max) : 1\n"
     ]
    },
    {
     "ename": "ValueError",
     "evalue": "red is not a valid palette name",
     "output_type": "error",
     "traceback": [
      "\u001b[1;31m---------------------------------------------------------------------------\u001b[0m",
      "\u001b[1;31mValueError\u001b[0m                                Traceback (most recent call last)",
      "\u001b[1;32mc:\\users\\lenovo\\appdata\\local\\programs\\python\\python36\\lib\\site-packages\\seaborn\\palettes.py\u001b[0m in \u001b[0;36mcolor_palette\u001b[1;34m(palette, n_colors, desat)\u001b[0m\n\u001b[0;32m    229\u001b[0m                 \u001b[1;31m# Perhaps a named matplotlib colormap?\u001b[0m\u001b[1;33m\u001b[0m\u001b[1;33m\u001b[0m\u001b[0m\n\u001b[1;32m--> 230\u001b[1;33m                 \u001b[0mpalette\u001b[0m \u001b[1;33m=\u001b[0m \u001b[0mmpl_palette\u001b[0m\u001b[1;33m(\u001b[0m\u001b[0mpalette\u001b[0m\u001b[1;33m,\u001b[0m \u001b[0mn_colors\u001b[0m\u001b[1;33m)\u001b[0m\u001b[1;33m\u001b[0m\u001b[0m\n\u001b[0m\u001b[0;32m    231\u001b[0m             \u001b[1;32mexcept\u001b[0m \u001b[0mValueError\u001b[0m\u001b[1;33m:\u001b[0m\u001b[1;33m\u001b[0m\u001b[0m\n",
      "\u001b[1;32mc:\\users\\lenovo\\appdata\\local\\programs\\python\\python36\\lib\\site-packages\\seaborn\\palettes.py\u001b[0m in \u001b[0;36mmpl_palette\u001b[1;34m(name, n_colors)\u001b[0m\n\u001b[0;32m    453\u001b[0m     \u001b[1;32melse\u001b[0m\u001b[1;33m:\u001b[0m\u001b[1;33m\u001b[0m\u001b[0m\n\u001b[1;32m--> 454\u001b[1;33m         \u001b[0mcmap\u001b[0m \u001b[1;33m=\u001b[0m \u001b[0mmpl\u001b[0m\u001b[1;33m.\u001b[0m\u001b[0mcm\u001b[0m\u001b[1;33m.\u001b[0m\u001b[0mget_cmap\u001b[0m\u001b[1;33m(\u001b[0m\u001b[0mname\u001b[0m\u001b[1;33m)\u001b[0m\u001b[1;33m\u001b[0m\u001b[0m\n\u001b[0m\u001b[0;32m    455\u001b[0m         \u001b[1;32mif\u001b[0m \u001b[0mcmap\u001b[0m \u001b[1;32mis\u001b[0m \u001b[1;32mNone\u001b[0m\u001b[1;33m:\u001b[0m\u001b[1;33m\u001b[0m\u001b[0m\n",
      "\u001b[1;32mc:\\users\\lenovo\\appdata\\local\\programs\\python\\python36\\lib\\site-packages\\matplotlib\\cm.py\u001b[0m in \u001b[0;36mget_cmap\u001b[1;34m(name, lut)\u001b[0m\n\u001b[0;32m    133\u001b[0m         \u001b[1;32mreturn\u001b[0m \u001b[0mname\u001b[0m\u001b[1;33m\u001b[0m\u001b[0m\n\u001b[1;32m--> 134\u001b[1;33m     \u001b[0mcbook\u001b[0m\u001b[1;33m.\u001b[0m\u001b[0m_check_in_list\u001b[0m\u001b[1;33m(\u001b[0m\u001b[0msorted\u001b[0m\u001b[1;33m(\u001b[0m\u001b[0mcmap_d\u001b[0m\u001b[1;33m)\u001b[0m\u001b[1;33m,\u001b[0m \u001b[0mname\u001b[0m\u001b[1;33m=\u001b[0m\u001b[0mname\u001b[0m\u001b[1;33m)\u001b[0m\u001b[1;33m\u001b[0m\u001b[0m\n\u001b[0m\u001b[0;32m    135\u001b[0m     \u001b[1;32mif\u001b[0m \u001b[0mlut\u001b[0m \u001b[1;32mis\u001b[0m \u001b[1;32mNone\u001b[0m\u001b[1;33m:\u001b[0m\u001b[1;33m\u001b[0m\u001b[0m\n",
      "\u001b[1;32mc:\\users\\lenovo\\appdata\\local\\programs\\python\\python36\\lib\\site-packages\\matplotlib\\cbook\\__init__.py\u001b[0m in \u001b[0;36m_check_in_list\u001b[1;34m(_values, **kwargs)\u001b[0m\n\u001b[0;32m   2144\u001b[0m                 \u001b[1;34m\"{!r} is not a valid value for {}; supported values are {}\"\u001b[0m\u001b[1;33m\u001b[0m\u001b[0m\n\u001b[1;32m-> 2145\u001b[1;33m                 .format(v, k, ', '.join(map(repr, values))))\n\u001b[0m\u001b[0;32m   2146\u001b[0m \u001b[1;33m\u001b[0m\u001b[0m\n",
      "\u001b[1;31mValueError\u001b[0m: 'red' is not a valid value for name; supported values are 'Accent', 'Accent_r', 'Blues', 'Blues_r', 'BrBG', 'BrBG_r', 'BuGn', 'BuGn_r', 'BuPu', 'BuPu_r', 'CMRmap', 'CMRmap_r', 'Dark2', 'Dark2_r', 'GnBu', 'GnBu_r', 'Greens', 'Greens_r', 'Greys', 'Greys_r', 'OrRd', 'OrRd_r', 'Oranges', 'Oranges_r', 'PRGn', 'PRGn_r', 'Paired', 'Paired_r', 'Pastel1', 'Pastel1_r', 'Pastel2', 'Pastel2_r', 'PiYG', 'PiYG_r', 'PuBu', 'PuBuGn', 'PuBuGn_r', 'PuBu_r', 'PuOr', 'PuOr_r', 'PuRd', 'PuRd_r', 'Purples', 'Purples_r', 'RdBu', 'RdBu_r', 'RdGy', 'RdGy_r', 'RdPu', 'RdPu_r', 'RdYlBu', 'RdYlBu_r', 'RdYlGn', 'RdYlGn_r', 'Reds', 'Reds_r', 'Set1', 'Set1_r', 'Set2', 'Set2_r', 'Set3', 'Set3_r', 'Spectral', 'Spectral_r', 'Wistia', 'Wistia_r', 'YlGn', 'YlGnBu', 'YlGnBu_r', 'YlGn_r', 'YlOrBr', 'YlOrBr_r', 'YlOrRd', 'YlOrRd_r', 'afmhot', 'afmhot_r', 'autumn', 'autumn_r', 'binary', 'binary_r', 'bone', 'bone_r', 'brg', 'brg_r', 'bwr', 'bwr_r', 'cividis', 'cividis_r', 'cool', 'cool_r', 'coolwarm', 'coolwarm_r', 'copper', 'copper_r', 'cubehelix', 'cubehelix_r', 'flag', 'flag_r', 'gist_earth', 'gist_earth_r', 'gist_gray', 'gist_gray_r', 'gist_heat', 'gist_heat_r', 'gist_ncar', 'gist_ncar_r', 'gist_rainbow', 'gist_rainbow_r', 'gist_stern', 'gist_stern_r', 'gist_yarg', 'gist_yarg_r', 'gnuplot', 'gnuplot2', 'gnuplot2_r', 'gnuplot_r', 'gray', 'gray_r', 'hot', 'hot_r', 'hsv', 'hsv_r', 'icefire', 'icefire_r', 'inferno', 'inferno_r', 'jet', 'jet_r', 'magma', 'magma_r', 'mako', 'mako_r', 'nipy_spectral', 'nipy_spectral_r', 'ocean', 'ocean_r', 'pink', 'pink_r', 'plasma', 'plasma_r', 'prism', 'prism_r', 'rainbow', 'rainbow_r', 'rocket', 'rocket_r', 'seismic', 'seismic_r', 'spring', 'spring_r', 'summer', 'summer_r', 'tab10', 'tab10_r', 'tab20', 'tab20_r', 'tab20b', 'tab20b_r', 'tab20c', 'tab20c_r', 'terrain', 'terrain_r', 'twilight', 'twilight_r', 'twilight_shifted', 'twilight_shifted_r', 'viridis', 'viridis_r', 'vlag', 'vlag_r', 'winter', 'winter_r'",
      "\nDuring handling of the above exception, another exception occurred:\n",
      "\u001b[1;31mValueError\u001b[0m                                Traceback (most recent call last)",
      "\u001b[1;32m<ipython-input-74-d54ea7373a05>\u001b[0m in \u001b[0;36m<module>\u001b[1;34m\u001b[0m\n\u001b[1;32m----> 1\u001b[1;33m \u001b[0msummary\u001b[0m\u001b[1;33m(\u001b[0m\u001b[1;34m'Renewal'\u001b[0m\u001b[1;33m)\u001b[0m\u001b[1;33m\u001b[0m\u001b[0m\n\u001b[0m",
      "\u001b[1;32m<ipython-input-72-d3714ff95798>\u001b[0m in \u001b[0;36msummary\u001b[1;34m(x)\u001b[0m\n\u001b[0;32m     15\u001b[0m     \u001b[0mfig\u001b[0m \u001b[1;33m=\u001b[0m \u001b[0mplt\u001b[0m\u001b[1;33m.\u001b[0m\u001b[0mfigure\u001b[0m\u001b[1;33m(\u001b[0m\u001b[0mfigsize\u001b[0m\u001b[1;33m=\u001b[0m\u001b[1;33m(\u001b[0m\u001b[1;36m16\u001b[0m\u001b[1;33m,\u001b[0m \u001b[1;36m10\u001b[0m\u001b[1;33m)\u001b[0m\u001b[1;33m)\u001b[0m\u001b[1;33m\u001b[0m\u001b[0m\n\u001b[0;32m     16\u001b[0m     \u001b[0mplt\u001b[0m\u001b[1;33m.\u001b[0m\u001b[0msubplots_adjust\u001b[0m\u001b[1;33m(\u001b[0m\u001b[0mhspace\u001b[0m \u001b[1;33m=\u001b[0m \u001b[1;36m0.6\u001b[0m\u001b[1;33m)\u001b[0m\u001b[1;31m#the amount of height reserved for space between subplots,\u001b[0m\u001b[1;33m\u001b[0m\u001b[0m\n\u001b[1;32m---> 17\u001b[1;33m     \u001b[0msns\u001b[0m\u001b[1;33m.\u001b[0m\u001b[0mset_palette\u001b[0m\u001b[1;33m(\u001b[0m\u001b[1;34m'red'\u001b[0m\u001b[1;33m)\u001b[0m\u001b[1;33m\u001b[0m\u001b[0m\n\u001b[0m\u001b[0;32m     18\u001b[0m \u001b[1;33m\u001b[0m\u001b[0m\n\u001b[0;32m     19\u001b[0m     \u001b[0mplt\u001b[0m\u001b[1;33m.\u001b[0m\u001b[0msubplot\u001b[0m\u001b[1;33m(\u001b[0m\u001b[1;36m221\u001b[0m\u001b[1;33m)\u001b[0m\u001b[1;33m\u001b[0m\u001b[0m\n",
      "\u001b[1;32mc:\\users\\lenovo\\appdata\\local\\programs\\python\\python36\\lib\\site-packages\\seaborn\\rcmod.py\u001b[0m in \u001b[0;36mset_palette\u001b[1;34m(palette, n_colors, desat, color_codes)\u001b[0m\n\u001b[0;32m    536\u001b[0m \u001b[1;33m\u001b[0m\u001b[0m\n\u001b[0;32m    537\u001b[0m     \"\"\"\n\u001b[1;32m--> 538\u001b[1;33m     \u001b[0mcolors\u001b[0m \u001b[1;33m=\u001b[0m \u001b[0mpalettes\u001b[0m\u001b[1;33m.\u001b[0m\u001b[0mcolor_palette\u001b[0m\u001b[1;33m(\u001b[0m\u001b[0mpalette\u001b[0m\u001b[1;33m,\u001b[0m \u001b[0mn_colors\u001b[0m\u001b[1;33m,\u001b[0m \u001b[0mdesat\u001b[0m\u001b[1;33m)\u001b[0m\u001b[1;33m\u001b[0m\u001b[0m\n\u001b[0m\u001b[0;32m    539\u001b[0m     \u001b[0mcyl\u001b[0m \u001b[1;33m=\u001b[0m \u001b[0mcycler\u001b[0m\u001b[1;33m(\u001b[0m\u001b[1;34m'color'\u001b[0m\u001b[1;33m,\u001b[0m \u001b[0mcolors\u001b[0m\u001b[1;33m)\u001b[0m\u001b[1;33m\u001b[0m\u001b[0m\n\u001b[0;32m    540\u001b[0m     \u001b[0mmpl\u001b[0m\u001b[1;33m.\u001b[0m\u001b[0mrcParams\u001b[0m\u001b[1;33m[\u001b[0m\u001b[1;34m'axes.prop_cycle'\u001b[0m\u001b[1;33m]\u001b[0m \u001b[1;33m=\u001b[0m \u001b[0mcyl\u001b[0m\u001b[1;33m\u001b[0m\u001b[0m\n",
      "\u001b[1;32mc:\\users\\lenovo\\appdata\\local\\programs\\python\\python36\\lib\\site-packages\\seaborn\\palettes.py\u001b[0m in \u001b[0;36mcolor_palette\u001b[1;34m(palette, n_colors, desat)\u001b[0m\n\u001b[0;32m    230\u001b[0m                 \u001b[0mpalette\u001b[0m \u001b[1;33m=\u001b[0m \u001b[0mmpl_palette\u001b[0m\u001b[1;33m(\u001b[0m\u001b[0mpalette\u001b[0m\u001b[1;33m,\u001b[0m \u001b[0mn_colors\u001b[0m\u001b[1;33m)\u001b[0m\u001b[1;33m\u001b[0m\u001b[0m\n\u001b[0;32m    231\u001b[0m             \u001b[1;32mexcept\u001b[0m \u001b[0mValueError\u001b[0m\u001b[1;33m:\u001b[0m\u001b[1;33m\u001b[0m\u001b[0m\n\u001b[1;32m--> 232\u001b[1;33m                 \u001b[1;32mraise\u001b[0m \u001b[0mValueError\u001b[0m\u001b[1;33m(\u001b[0m\u001b[1;34m\"%s is not a valid palette name\"\u001b[0m \u001b[1;33m%\u001b[0m \u001b[0mpalette\u001b[0m\u001b[1;33m)\u001b[0m\u001b[1;33m\u001b[0m\u001b[0m\n\u001b[0m\u001b[0;32m    233\u001b[0m \u001b[1;33m\u001b[0m\u001b[0m\n\u001b[0;32m    234\u001b[0m     \u001b[1;32mif\u001b[0m \u001b[0mdesat\u001b[0m \u001b[1;32mis\u001b[0m \u001b[1;32mnot\u001b[0m \u001b[1;32mNone\u001b[0m\u001b[1;33m:\u001b[0m\u001b[1;33m\u001b[0m\u001b[0m\n",
      "\u001b[1;31mValueError\u001b[0m: red is not a valid palette name"
     ]
    },
    {
     "data": {
      "text/plain": [
       "<Figure size 1152x720 with 0 Axes>"
      ]
     },
     "metadata": {},
     "output_type": "display_data"
    }
   ],
   "source": [
    "summary('Renewal')"
   ]
  },
  {
   "cell_type": "code",
   "execution_count": 75,
   "metadata": {},
   "outputs": [],
   "source": [
    "# Create a function that returns a Pie chart for categorical variable:\n",
    "def pie_chart(x = 'Renewal'):\n",
    "    \"\"\"\n",
    "    Function creates a Pie chart for categorical variables.\n",
    "    \"\"\"\n",
    "    fig, ax = plt.subplots(figsize=(8, 6), subplot_kw=dict(aspect=\"equal\"))\n",
    "\n",
    "    s = df.groupby(x).size()\n",
    "    \n",
    "\n",
    "\n",
    "    mydata_values = s.values.tolist()\n",
    "    mydata_index = s.index.tolist()\n",
    "\n",
    "    ##need to check\n",
    "    def func(pct, allvals):\n",
    "        absolute = int(pct/100.*np.sum(allvals))\n",
    "        return \"{:.1f}%\\n({:d})\".format(pct, absolute)\n",
    "\n",
    "\n",
    "    wedges, texts, autotexts = ax.pie(mydata_values, autopct=lambda pct: func(pct, mydata_values),\n",
    "                                      textprops=dict(color=\"w\"))\n",
    "\n",
    "    ax.legend(wedges, mydata_index,\n",
    "              title=\"Index\",\n",
    "              loc=\"center left\",\n",
    "              bbox_to_anchor=(1, 0, 0.5, 1))\n",
    "\n",
    "    plt.setp(autotexts, size=12, weight=\"bold\")\n",
    "\n",
    "    ax.set_title(f'{x.capitalize()} Piechart')\n",
    "\n",
    "    plt.show()"
   ]
  },
  {
   "cell_type": "code",
   "execution_count": 76,
   "metadata": {},
   "outputs": [
    {
     "data": {
      "image/png": "[encoded data removed]",
      "text/plain": [
       "<Figure size 576x432 with 1 Axes>"
      ]
     },
     "metadata": {},
     "output_type": "display_data"
    }
   ],
   "source": [
    "pie_chart('Renewal')"
   ]
  },
  {
   "cell_type": "code",
   "execution_count": 77,
   "metadata": {
    "scrolled": true
   },
   "outputs": [
    {
     "data": {
      "image/png": "[encoded data removed]",
      "text/plain": [
       "<Figure size 576x432 with 1 Axes>"
      ]
     },
     "metadata": {},
     "output_type": "display_data"
    }
   ],
   "source": [
    "pie_chart('C1')"
   ]
  },
  {
   "cell_type": "code",
   "execution_count": 78,
   "metadata": {},
   "outputs": [
    {
     "data": {
      "text/plain": [
       "67"
      ]
     },
     "execution_count": 78,
     "metadata": {},
     "output_type": "execute_result"
    }
   ],
   "source": [
    "df['C11'].max()"
   ]
  },
  {
   "cell_type": "code",
   "execution_count": 79,
   "metadata": {},
   "outputs": [
    {
     "name": "stderr",
     "output_type": "stream",
     "text": [
      "c:\\users\\lenovo\\appdata\\local\\programs\\python\\python36\\lib\\site-packages\\scipy\\stats\\stats.py:1713: FutureWarning: Using a non-tuple sequence for multidimensional indexing is deprecated; use `arr[tuple(seq)]` instead of `arr[seq]`. In the future this will be interpreted as an array index, `arr[np.array(seq)]`, which will result either in an error or a different result.\n",
      "  return np.add.reduce(sorted[indexer] * weights, axis=axis) / sumval\n",
      "c:\\users\\lenovo\\appdata\\local\\programs\\python\\python36\\lib\\site-packages\\scipy\\stats\\stats.py:1713: FutureWarning: Using a non-tuple sequence for multidimensional indexing is deprecated; use `arr[tuple(seq)]` instead of `arr[seq]`. In the future this will be interpreted as an array index, `arr[np.array(seq)]`, which will result either in an error or a different result.\n",
      "  return np.add.reduce(sorted[indexer] * weights, axis=axis) / sumval\n"
     ]
    },
    {
     "name": "stdout",
     "output_type": "stream",
     "text": [
      "    C11   Renewal\n",
      "0     0  0.248101\n",
      "1     1  0.492958\n",
      "2     2  0.422222\n",
      "3     3  0.714286\n",
      "4     4  0.800000\n",
      "5     5  0.888889\n",
      "6     6  0.869565\n",
      "7     7  0.937500\n",
      "8     8  1.000000\n",
      "9     9  1.000000\n",
      "10   10  0.500000\n",
      "11   11  0.947368\n",
      "12   12  0.875000\n",
      "13   13  1.000000\n",
      "14   14  1.000000\n",
      "15   15  1.000000\n",
      "16   16  1.000000\n",
      "17   17  1.000000\n",
      "18   19  1.000000\n",
      "19   20  0.500000\n",
      "20   23  1.000000\n",
      "21   40  1.000000\n",
      "22   67  1.000000\n"
     ]
    },
    {
     "data": {
      "image/png": "[encoded data removed]",
      "text/plain": [
       "<Figure size 914.125x216 with 1 Axes>"
      ]
     },
     "metadata": {
      "needs_background": "light"
     },
     "output_type": "display_data"
    },
    {
     "data": {
      "image/png": "[encoded data removed]",
      "text/plain": [
       "<Figure size 2160x1008 with 1 Axes>"
      ]
     },
     "metadata": {
      "needs_background": "light"
     },
     "output_type": "display_data"
    }
   ],
   "source": [
    "facet = sns.FacetGrid(df, hue=\"Renewal\",aspect=4)\n",
    "facet.map(sns.kdeplot,'C11',shade= True)\n",
    "facet.set(xlim=(-10, df['C11'].max()))   #age factor explain \n",
    "facet.add_legend()\n",
    "\n",
    "# average exited customers by age\n",
    "fig, axis1 = plt.subplots(1,1,figsize=(30,14))\n",
    "average_age = df[[\"C11\", \"Renewal\"]].groupby(['C11'],as_index=False).mean()\n",
    "print(average_age)\n",
    "average_age.columns = ['C11','Renewal']\n",
    "sns.barplot(x='C11', y='Renewal', data=average_age)\n",
    "del average_age\n"
   ]
  },
  {
   "cell_type": "markdown",
   "metadata": {},
   "source": [
    "This plot gives the insights that continous variable with specific range of values has the policy renewal ."
   ]
  },
  {
   "cell_type": "markdown",
   "metadata": {},
   "source": [
    "# Outlier detection"
   ]
  },
  {
   "cell_type": "markdown",
   "metadata": {},
   "source": [
    "An outlier is a data point that is noticeably different from the rest. They represent errors in measurement, bad data collection, or simply show variables not considered when collecting the data.\n",
    "After looking the boxplot we can say C15 variable contain large amount of outlier . "
   ]
  },
  {
   "cell_type": "code",
   "execution_count": 80,
   "metadata": {
    "scrolled": false
   },
   "outputs": [
    {
     "data": {
      "image/png": "[encoded data removed]",
      "text/plain": [
       "<Figure size 432x288 with 1 Axes>"
      ]
     },
     "metadata": {
      "needs_background": "light"
     },
     "output_type": "display_data"
    }
   ],
   "source": [
    "ax = sns.boxplot(data = df[numeric_columns], orient = \"h\", color = \"violet\", palette = \"Set1\")\n",
    "plt.show()"
   ]
  },
  {
   "cell_type": "markdown",
   "metadata": {},
   "source": [
    "# How to detect outliers?"
   ]
  },
  {
   "attachments": {
    "1%20NRlqiZGQdsIyAu0KzP7LaQ.png": {
     "image/png": "[encoded data removed]"
    }
   },
   "cell_type": "markdown",
   "metadata": {},
   "source": [
    "👉  Use Inter-Quartile Range (IQR) proximity rule.\n",
    "\n",
    "– The data points which fall below Q1 – 1.5 IQR or above Q3 + 1.5 IQR are outliers.\n",
    "\n",
    "where Q1 and Q3 are the 25th and 75th percentile of the dataset respectively, and IQR represents the inter-quartile range and given by Q3 – Q1.\n",
    "\n",
    "\n",
    "![1%20NRlqiZGQdsIyAu0KzP7LaQ.png](attachment:1%20NRlqiZGQdsIyAu0KzP7LaQ.png)\n",
    "\n",
    "Interquartile Range (IQR) to Detect Outliers \n",
    "\n",
    "\n"
   ]
  },
  {
   "cell_type": "code",
   "execution_count": 81,
   "metadata": {},
   "outputs": [],
   "source": [
    "def outlier_detect(df):\n",
    "    outlier_columns_handle=[]\n",
    "    for i in df.describe().columns:\n",
    "        print(i)\n",
    "        Q1=df.describe().at['25%',i]\n",
    "        Q3=df.describe().at['75%',i]\n",
    "        IQR=Q3 - Q1\n",
    "        LTV=Q1 - 1.5 * IQR\n",
    "        UTV=Q3 + 1.5 * IQR\n",
    "        x=np.array(df[i])\n",
    "        p=[]\n",
    "        \n",
    "        for j in x:\n",
    "            if j < LTV or j>UTV:\n",
    "               p.append(j)\n",
    "        print('\\n Outliers for Column : ', i, ' Outliers count ', len(p))\n",
    "        print('Lower Limit= %f , Upper Limit= %f ,IQR= %f'%(LTV,UTV,IQR))\n",
    "        print(p)\n",
    "        "
   ]
  },
  {
   "cell_type": "markdown",
   "metadata": {},
   "source": [
    "Function outlier detection return the number of the outlier values present in the coloumn ."
   ]
  },
  {
   "cell_type": "code",
   "execution_count": 82,
   "metadata": {
    "scrolled": true
   },
   "outputs": [
    {
     "name": "stdout",
     "output_type": "stream",
     "text": [
      "C3\n",
      "\n",
      " Outliers for Column :  C3  Outliers count  17\n",
      "Lower Limit= -8.311250 , Upper Limit= 16.518750 ,IQR= 6.207500\n",
      "[18.5, 28.0, 25.125, 19.0, 19.5, 21.0, 25.085, 21.5, 26.335, 22.0, 18.125, 19.0, 19.5, 25.21, 22.29, 17.75, 20.0]\n",
      "C8\n",
      "\n",
      " Outliers for Column :  C8  Outliers count  63\n",
      "Lower Limit= -3.525000 , Upper Limit= 6.315000 ,IQR= 2.460000\n",
      "[6.5, 7.875, 15.0, 7.0, 7.96, 7.585, 14.415, 8.625, 28.5, 7.415, 12.5, 13.5, 10.75, 8.5, 9.46, 10.0, 11.5, 14.0, 7.375, 8.5, 7.5, 13.0, 6.5, 8.0, 11.0, 9.0, 15.0, 8.0, 8.5, 15.0, 12.5, 8.5, 15.5, 14.0, 6.5, 10.0, 18.0, 7.0, 8.665, 20.0, 13.875, 10.0, 11.0, 14.0, 20.0, 6.5, 10.0, 13.875, 7.0, 7.0, 10.0, 6.5, 7.0, 6.5, 6.75, 7.5, 16.0, 12.75, 7.5, 12.75, 17.5, 8.5, 8.29]\n",
      "C15\n",
      "\n",
      " Outliers for Column :  C15  Outliers count  113\n",
      "Lower Limit= -593.250000 , Upper Limit= 988.750000 ,IQR= 395.500000\n",
      "[31285, 1349, 1442, 2690, 1208, 1260, 10000, 5000, 4000, 2283, 1236, 5800, 50000, 15108, 2954, 11202, 1332, 1000, 2510, 51100, 1000, 1000, 5000, 2072, 2300, 3065, 2200, 1602, 2184, 3376, 2000, 7544, 10561, 11177, 2028, 1065, 15000, 3000, 3257, 1655, 3065, 1430, 1187, 6590, 1270, 1210, 1000, 8851, 7059, 1704, 6700, 2503, 9800, 26726, 18027, 2000, 1200, 3000, 2010, 1000, 5552, 2803, 100000, 2732, 1062, 4000, 1210, 4000, 4208, 1300, 1000, 1110, 1004, 4500, 1212, 1058, 5200, 3552, 1950, 1000, 2100, 2000, 4607, 2206, 5860, 1391, 2279, 5000, 1000, 990, 2197, 4071, 1249, 1344, 2079, 3000, 2384, 5298, 1583, 1400, 1465, 8000, 4700, 1097, 3290, 13212, 1000, 5777, 5124, 1200, 4159, 3000, 1000]\n",
      "Renewal\n",
      "\n",
      " Outliers for Column :  Renewal  Outliers count  0\n",
      "Lower Limit= -1.500000 , Upper Limit= 2.500000 ,IQR= 1.000000\n",
      "[]\n"
     ]
    }
   ],
   "source": [
    "x=df[numeric_columns]\n",
    "outlier_detect(x)"
   ]
  },
  {
   "cell_type": "markdown",
   "metadata": {},
   "source": [
    "# Handling the outlier "
   ]
  },
  {
   "cell_type": "markdown",
   "metadata": {},
   "source": [
    "\n",
    "For this dataset we are using the IRQ based Technique ."
   ]
  },
  {
   "cell_type": "code",
   "execution_count": 83,
   "metadata": {},
   "outputs": [
    {
     "name": "stdout",
     "output_type": "stream",
     "text": [
      "***** 6       6.500\n",
      "22      7.875\n",
      "27     15.000\n",
      "28      7.000\n",
      "31      7.960\n",
      "        ...  \n",
      "556     7.500\n",
      "564    12.750\n",
      "586    17.500\n",
      "587     8.500\n",
      "689     8.290\n",
      "Name: C8, Length: 63, dtype: float64\n",
      "&&&&&&& 0.0\n",
      "****** 6.29\n",
      "Capping outliers by the IQR method:\n",
      "   IQR threshold: 1.5\n",
      "   Lower bound: -3.525\n",
      "   Upper bound: 6.3149999999999995\n",
      "\n",
      "***** 27     18.500\n",
      "44     28.000\n",
      "69     25.125\n",
      "80     19.000\n",
      "183    19.500\n",
      "234    21.000\n",
      "241    25.085\n",
      "250    21.500\n",
      "305    26.335\n",
      "317    22.000\n",
      "455    18.125\n",
      "485    19.000\n",
      "505    19.500\n",
      "529    25.210\n",
      "550    22.290\n",
      "585    17.750\n",
      "586    20.000\n",
      "Name: C3, dtype: float64\n",
      "&&&&&&& 0.0\n",
      "****** 16.5\n",
      "Capping outliers by the IQR method:\n",
      "   IQR threshold: 1.5\n",
      "   Lower bound: -8.31125\n",
      "   Upper bound: 16.518749999999997\n",
      "\n",
      "***** 6      31285\n",
      "7       1349\n",
      "9       1442\n",
      "13      2690\n",
      "20      1208\n",
      "       ...  \n",
      "589     5124\n",
      "590     1200\n",
      "596     4159\n",
      "599     3000\n",
      "627     1000\n",
      "Name: C15, Length: 113, dtype: int64\n",
      "&&&&&&& 0\n",
      "****** 960\n",
      "Capping outliers by the IQR method:\n",
      "   IQR threshold: 1.5\n",
      "   Lower bound: -593.25\n",
      "   Upper bound: 988.75\n",
      "\n"
     ]
    }
   ],
   "source": [
    "def cap_outliers(series, iqr_threshold=1.5, verbose=False):\n",
    "    '''Caps outliers to closest existing value within threshold (IQR).'''\n",
    "    Q1 = series.quantile(0.25)\n",
    "    Q3 = series.quantile(0.75)\n",
    "    IQR = Q3 - Q1\n",
    "\n",
    "    lbound = Q1 - iqr_threshold * IQR\n",
    "    ubound = Q3 + iqr_threshold * IQR\n",
    "\n",
    "    outliers = (series < lbound) | (series > ubound)\n",
    "    #print(series.loc[~outliers].max())\n",
    "    series = series.copy()\n",
    "    #print(series)\n",
    "    t=series.loc[series > ubound]\n",
    "    print('*****',t)\n",
    "    series.loc[series < lbound] = series.loc[~outliers].min()\n",
    "    r=series.loc[series < lbound] = series.loc[~outliers].min()\n",
    "    print('&&&&&&&',r)\n",
    "    series.loc[series > ubound] = series.loc[~outliers].max()\n",
    "    o=series.loc[series > ubound] = series.loc[~outliers].max()\n",
    "    print('******',o)\n",
    "\n",
    "    # For comparison purposes.\n",
    "    if verbose:\n",
    "            print('\\n'.join(\n",
    "                ['Capping outliers by the IQR method:',\n",
    "                 f'   IQR threshold: {iqr_threshold}',\n",
    "                 f'   Lower bound: {lbound}',\n",
    "                 f'   Upper bound: {ubound}\\n']))\n",
    "\n",
    "    return series\n",
    "\n",
    "handle_columns=['C8','C3','C15']\n",
    "for i in handle_columns:\n",
    "    r=cap_outliers(df[i], verbose=True)\n",
    "    df[i]=r"
   ]
  },
  {
   "cell_type": "code",
   "execution_count": 25,
   "metadata": {},
   "outputs": [
    {
     "data": {
      "text/html": [
       "<div>\n",
       "<style scoped>\n",
       "    .dataframe tbody tr th:only-of-type {\n",
       "        vertical-align: middle;\n",
       "    }\n",
       "\n",
       "    .dataframe tbody tr th {\n",
       "        vertical-align: top;\n",
       "    }\n",
       "\n",
       "    .dataframe thead th {\n",
       "        text-align: right;\n",
       "    }\n",
       "</style>\n",
       "<table border=\"1\" class=\"dataframe\">\n",
       "  <thead>\n",
       "    <tr style=\"text-align: right;\">\n",
       "      <th></th>\n",
       "      <th>C1</th>\n",
       "      <th>C2</th>\n",
       "      <th>C3</th>\n",
       "      <th>C4</th>\n",
       "      <th>C5</th>\n",
       "      <th>C6</th>\n",
       "      <th>C7</th>\n",
       "      <th>C8</th>\n",
       "      <th>C9</th>\n",
       "      <th>C10</th>\n",
       "      <th>C11</th>\n",
       "      <th>C12</th>\n",
       "      <th>C13</th>\n",
       "      <th>C14</th>\n",
       "      <th>C15</th>\n",
       "      <th>Renewal</th>\n",
       "    </tr>\n",
       "  </thead>\n",
       "  <tbody>\n",
       "    <tr>\n",
       "      <th>0</th>\n",
       "      <td>b</td>\n",
       "      <td>30.83</td>\n",
       "      <td>0.000</td>\n",
       "      <td>u</td>\n",
       "      <td>g</td>\n",
       "      <td>w</td>\n",
       "      <td>v</td>\n",
       "      <td>1.25</td>\n",
       "      <td>t</td>\n",
       "      <td>t</td>\n",
       "      <td>1</td>\n",
       "      <td>f</td>\n",
       "      <td>g</td>\n",
       "      <td>202</td>\n",
       "      <td>0</td>\n",
       "      <td>1</td>\n",
       "    </tr>\n",
       "    <tr>\n",
       "      <th>1</th>\n",
       "      <td>a</td>\n",
       "      <td>58.67</td>\n",
       "      <td>4.460</td>\n",
       "      <td>u</td>\n",
       "      <td>g</td>\n",
       "      <td>q</td>\n",
       "      <td>h</td>\n",
       "      <td>3.04</td>\n",
       "      <td>t</td>\n",
       "      <td>t</td>\n",
       "      <td>6</td>\n",
       "      <td>f</td>\n",
       "      <td>g</td>\n",
       "      <td>43</td>\n",
       "      <td>560</td>\n",
       "      <td>1</td>\n",
       "    </tr>\n",
       "    <tr>\n",
       "      <th>2</th>\n",
       "      <td>a</td>\n",
       "      <td>24.5</td>\n",
       "      <td>0.500</td>\n",
       "      <td>u</td>\n",
       "      <td>g</td>\n",
       "      <td>q</td>\n",
       "      <td>h</td>\n",
       "      <td>1.50</td>\n",
       "      <td>t</td>\n",
       "      <td>f</td>\n",
       "      <td>0</td>\n",
       "      <td>f</td>\n",
       "      <td>g</td>\n",
       "      <td>280</td>\n",
       "      <td>824</td>\n",
       "      <td>1</td>\n",
       "    </tr>\n",
       "    <tr>\n",
       "      <th>3</th>\n",
       "      <td>b</td>\n",
       "      <td>27.83</td>\n",
       "      <td>1.540</td>\n",
       "      <td>u</td>\n",
       "      <td>g</td>\n",
       "      <td>w</td>\n",
       "      <td>v</td>\n",
       "      <td>3.75</td>\n",
       "      <td>t</td>\n",
       "      <td>t</td>\n",
       "      <td>5</td>\n",
       "      <td>t</td>\n",
       "      <td>g</td>\n",
       "      <td>100</td>\n",
       "      <td>3</td>\n",
       "      <td>1</td>\n",
       "    </tr>\n",
       "    <tr>\n",
       "      <th>4</th>\n",
       "      <td>b</td>\n",
       "      <td>20.17</td>\n",
       "      <td>5.625</td>\n",
       "      <td>u</td>\n",
       "      <td>g</td>\n",
       "      <td>w</td>\n",
       "      <td>v</td>\n",
       "      <td>1.71</td>\n",
       "      <td>t</td>\n",
       "      <td>f</td>\n",
       "      <td>0</td>\n",
       "      <td>f</td>\n",
       "      <td>s</td>\n",
       "      <td>120</td>\n",
       "      <td>0</td>\n",
       "      <td>1</td>\n",
       "    </tr>\n",
       "  </tbody>\n",
       "</table>\n",
       "</div>"
      ],
      "text/plain": [
       "  C1     C2     C3 C4 C5 C6 C7    C8 C9 C10  C11 C12 C13  C14  C15  Renewal\n",
       "0  b  30.83  0.000  u  g  w  v  1.25  t   t    1   f   g  202    0        1\n",
       "1  a  58.67  4.460  u  g  q  h  3.04  t   t    6   f   g   43  560        1\n",
       "2  a   24.5  0.500  u  g  q  h  1.50  t   f    0   f   g  280  824        1\n",
       "3  b  27.83  1.540  u  g  w  v  3.75  t   t    5   t   g  100    3        1\n",
       "4  b  20.17  5.625  u  g  w  v  1.71  t   f    0   f   s  120    0        1"
      ]
     },
     "execution_count": 25,
     "metadata": {},
     "output_type": "execute_result"
    }
   ],
   "source": [
    "df.head()"
   ]
  },
  {
   "cell_type": "code",
   "execution_count": 26,
   "metadata": {
    "scrolled": true
   },
   "outputs": [
    {
     "data": {
      "text/plain": [
       "<matplotlib.axes._subplots.AxesSubplot at 0x2bbdf99b5f8>"
      ]
     },
     "execution_count": 26,
     "metadata": {},
     "output_type": "execute_result"
    },
    {
     "data": {
      "image/png": "[encoded data removed]",
      "text/plain": [
       "<Figure size 432x288 with 1 Axes>"
      ]
     },
     "metadata": {
      "needs_background": "light"
     },
     "output_type": "display_data"
    }
   ],
   "source": [
    "sns.boxplot(df['C8'])"
   ]
  },
  {
   "cell_type": "code",
   "execution_count": 27,
   "metadata": {
    "scrolled": true
   },
   "outputs": [
    {
     "data": {
      "text/plain": [
       "<matplotlib.axes._subplots.AxesSubplot at 0x2bbdfd40518>"
      ]
     },
     "execution_count": 27,
     "metadata": {},
     "output_type": "execute_result"
    },
    {
     "data": {
      "image/png": "[encoded data removed]",
      "text/plain": [
       "<Figure size 432x288 with 1 Axes>"
      ]
     },
     "metadata": {
      "needs_background": "light"
     },
     "output_type": "display_data"
    }
   ],
   "source": [
    "sns.boxplot(df['C8'])"
   ]
  },
  {
   "cell_type": "code",
   "execution_count": 28,
   "metadata": {},
   "outputs": [
    {
     "data": {
      "text/plain": [
       "<matplotlib.axes._subplots.AxesSubplot at 0x2bbdfdac358>"
      ]
     },
     "execution_count": 28,
     "metadata": {},
     "output_type": "execute_result"
    },
    {
     "data": {
      "image/png": "[encoded data removed]",
      "text/plain": [
       "<Figure size 432x288 with 1 Axes>"
      ]
     },
     "metadata": {
      "needs_background": "light"
     },
     "output_type": "display_data"
    }
   ],
   "source": [
    "sns.boxplot(df['C15'])"
   ]
  },
  {
   "cell_type": "code",
   "execution_count": 29,
   "metadata": {
    "scrolled": true
   },
   "outputs": [
    {
     "name": "stderr",
     "output_type": "stream",
     "text": [
      "c:\\users\\lenovo\\appdata\\local\\programs\\python\\python36\\lib\\site-packages\\scipy\\stats\\stats.py:1713: FutureWarning: Using a non-tuple sequence for multidimensional indexing is deprecated; use `arr[tuple(seq)]` instead of `arr[seq]`. In the future this will be interpreted as an array index, `arr[np.array(seq)]`, which will result either in an error or a different result.\n",
      "  return np.add.reduce(sorted[indexer] * weights, axis=axis) / sumval\n"
     ]
    },
    {
     "data": {
      "text/plain": [
       "Text(0.5, 1.0, 'Frequency Distribuition')"
      ]
     },
     "execution_count": 29,
     "metadata": {},
     "output_type": "execute_result"
    },
    {
     "data": {
      "image/png": "[encoded data removed]",
      "text/plain": [
       "<Figure size 864x432 with 1 Axes>"
      ]
     },
     "metadata": {
      "needs_background": "light"
     },
     "output_type": "display_data"
    }
   ],
   "source": [
    "plt.figure(figsize=(12,6))\n",
    "g = sns.distplot(df[\"C15\"])\n",
    "g.set_xlabel(\"C15\", fontsize=12)\n",
    "g.set_ylabel(\"Frequency\", fontsize=12)\n",
    "g.set_title(\"Frequency Distribuition\", fontsize=20)"
   ]
  },
  {
   "cell_type": "code",
   "execution_count": 30,
   "metadata": {},
   "outputs": [
    {
     "data": {
      "text/plain": [
       "array(['b', 'a', 'xyz'], dtype=object)"
      ]
     },
     "execution_count": 30,
     "metadata": {},
     "output_type": "execute_result"
    }
   ],
   "source": [
    "df[\"C1\"].unique()"
   ]
  },
  {
   "cell_type": "code",
   "execution_count": 31,
   "metadata": {},
   "outputs": [
    {
     "data": {
      "text/plain": [
       "0    383\n",
       "1    307\n",
       "Name: Renewal, dtype: int64"
      ]
     },
     "execution_count": 31,
     "metadata": {},
     "output_type": "execute_result"
    }
   ],
   "source": [
    "df.Renewal.value_counts()"
   ]
  },
  {
   "cell_type": "code",
   "execution_count": 32,
   "metadata": {},
   "outputs": [
    {
     "data": {
      "text/plain": [
       "0"
      ]
     },
     "execution_count": 32,
     "metadata": {},
     "output_type": "execute_result"
    }
   ],
   "source": [
    "df.duplicated().sum()"
   ]
  },
  {
   "cell_type": "markdown",
   "metadata": {},
   "source": [
    "# Encoding Categorical Variable"
   ]
  },
  {
   "cell_type": "code",
   "execution_count": 35,
   "metadata": {},
   "outputs": [
    {
     "data": {
      "text/html": [
       "<div>\n",
       "<style scoped>\n",
       "    .dataframe tbody tr th:only-of-type {\n",
       "        vertical-align: middle;\n",
       "    }\n",
       "\n",
       "    .dataframe tbody tr th {\n",
       "        vertical-align: top;\n",
       "    }\n",
       "\n",
       "    .dataframe thead th {\n",
       "        text-align: right;\n",
       "    }\n",
       "</style>\n",
       "<table border=\"1\" class=\"dataframe\">\n",
       "  <thead>\n",
       "    <tr style=\"text-align: right;\">\n",
       "      <th></th>\n",
       "      <th>C2</th>\n",
       "      <th>C3</th>\n",
       "      <th>C8</th>\n",
       "      <th>C14</th>\n",
       "      <th>C15</th>\n",
       "      <th>Renewal</th>\n",
       "      <th>C11</th>\n",
       "      <th>C1_a</th>\n",
       "      <th>C1_b</th>\n",
       "      <th>C1_xyz</th>\n",
       "      <th>...</th>\n",
       "      <th>C7_z</th>\n",
       "      <th>C9_f</th>\n",
       "      <th>C9_t</th>\n",
       "      <th>C10_f</th>\n",
       "      <th>C10_t</th>\n",
       "      <th>C12_f</th>\n",
       "      <th>C12_t</th>\n",
       "      <th>C13_g</th>\n",
       "      <th>C13_p</th>\n",
       "      <th>C13_s</th>\n",
       "    </tr>\n",
       "  </thead>\n",
       "  <tbody>\n",
       "    <tr>\n",
       "      <th>0</th>\n",
       "      <td>30.83</td>\n",
       "      <td>0.000</td>\n",
       "      <td>1.250</td>\n",
       "      <td>202</td>\n",
       "      <td>0</td>\n",
       "      <td>1</td>\n",
       "      <td>1</td>\n",
       "      <td>0</td>\n",
       "      <td>1</td>\n",
       "      <td>0</td>\n",
       "      <td>...</td>\n",
       "      <td>0</td>\n",
       "      <td>0</td>\n",
       "      <td>1</td>\n",
       "      <td>0</td>\n",
       "      <td>1</td>\n",
       "      <td>1</td>\n",
       "      <td>0</td>\n",
       "      <td>1</td>\n",
       "      <td>0</td>\n",
       "      <td>0</td>\n",
       "    </tr>\n",
       "    <tr>\n",
       "      <th>1</th>\n",
       "      <td>58.67</td>\n",
       "      <td>4.460</td>\n",
       "      <td>3.040</td>\n",
       "      <td>43</td>\n",
       "      <td>560</td>\n",
       "      <td>1</td>\n",
       "      <td>6</td>\n",
       "      <td>1</td>\n",
       "      <td>0</td>\n",
       "      <td>0</td>\n",
       "      <td>...</td>\n",
       "      <td>0</td>\n",
       "      <td>0</td>\n",
       "      <td>1</td>\n",
       "      <td>0</td>\n",
       "      <td>1</td>\n",
       "      <td>1</td>\n",
       "      <td>0</td>\n",
       "      <td>1</td>\n",
       "      <td>0</td>\n",
       "      <td>0</td>\n",
       "    </tr>\n",
       "    <tr>\n",
       "      <th>2</th>\n",
       "      <td>24.5</td>\n",
       "      <td>0.500</td>\n",
       "      <td>1.500</td>\n",
       "      <td>280</td>\n",
       "      <td>824</td>\n",
       "      <td>1</td>\n",
       "      <td>0</td>\n",
       "      <td>1</td>\n",
       "      <td>0</td>\n",
       "      <td>0</td>\n",
       "      <td>...</td>\n",
       "      <td>0</td>\n",
       "      <td>0</td>\n",
       "      <td>1</td>\n",
       "      <td>1</td>\n",
       "      <td>0</td>\n",
       "      <td>1</td>\n",
       "      <td>0</td>\n",
       "      <td>1</td>\n",
       "      <td>0</td>\n",
       "      <td>0</td>\n",
       "    </tr>\n",
       "    <tr>\n",
       "      <th>3</th>\n",
       "      <td>27.83</td>\n",
       "      <td>1.540</td>\n",
       "      <td>3.750</td>\n",
       "      <td>100</td>\n",
       "      <td>3</td>\n",
       "      <td>1</td>\n",
       "      <td>5</td>\n",
       "      <td>0</td>\n",
       "      <td>1</td>\n",
       "      <td>0</td>\n",
       "      <td>...</td>\n",
       "      <td>0</td>\n",
       "      <td>0</td>\n",
       "      <td>1</td>\n",
       "      <td>0</td>\n",
       "      <td>1</td>\n",
       "      <td>0</td>\n",
       "      <td>1</td>\n",
       "      <td>1</td>\n",
       "      <td>0</td>\n",
       "      <td>0</td>\n",
       "    </tr>\n",
       "    <tr>\n",
       "      <th>4</th>\n",
       "      <td>20.17</td>\n",
       "      <td>5.625</td>\n",
       "      <td>1.710</td>\n",
       "      <td>120</td>\n",
       "      <td>0</td>\n",
       "      <td>1</td>\n",
       "      <td>0</td>\n",
       "      <td>0</td>\n",
       "      <td>1</td>\n",
       "      <td>0</td>\n",
       "      <td>...</td>\n",
       "      <td>0</td>\n",
       "      <td>0</td>\n",
       "      <td>1</td>\n",
       "      <td>1</td>\n",
       "      <td>0</td>\n",
       "      <td>1</td>\n",
       "      <td>0</td>\n",
       "      <td>0</td>\n",
       "      <td>0</td>\n",
       "      <td>1</td>\n",
       "    </tr>\n",
       "    <tr>\n",
       "      <th>5</th>\n",
       "      <td>32.08</td>\n",
       "      <td>4.000</td>\n",
       "      <td>2.500</td>\n",
       "      <td>360</td>\n",
       "      <td>0</td>\n",
       "      <td>1</td>\n",
       "      <td>0</td>\n",
       "      <td>0</td>\n",
       "      <td>1</td>\n",
       "      <td>0</td>\n",
       "      <td>...</td>\n",
       "      <td>0</td>\n",
       "      <td>0</td>\n",
       "      <td>1</td>\n",
       "      <td>1</td>\n",
       "      <td>0</td>\n",
       "      <td>0</td>\n",
       "      <td>1</td>\n",
       "      <td>1</td>\n",
       "      <td>0</td>\n",
       "      <td>0</td>\n",
       "    </tr>\n",
       "    <tr>\n",
       "      <th>6</th>\n",
       "      <td>33.17</td>\n",
       "      <td>1.040</td>\n",
       "      <td>6.290</td>\n",
       "      <td>164</td>\n",
       "      <td>960</td>\n",
       "      <td>1</td>\n",
       "      <td>0</td>\n",
       "      <td>0</td>\n",
       "      <td>1</td>\n",
       "      <td>0</td>\n",
       "      <td>...</td>\n",
       "      <td>0</td>\n",
       "      <td>0</td>\n",
       "      <td>1</td>\n",
       "      <td>1</td>\n",
       "      <td>0</td>\n",
       "      <td>0</td>\n",
       "      <td>1</td>\n",
       "      <td>1</td>\n",
       "      <td>0</td>\n",
       "      <td>0</td>\n",
       "    </tr>\n",
       "    <tr>\n",
       "      <th>7</th>\n",
       "      <td>22.92</td>\n",
       "      <td>11.585</td>\n",
       "      <td>0.040</td>\n",
       "      <td>80</td>\n",
       "      <td>960</td>\n",
       "      <td>1</td>\n",
       "      <td>0</td>\n",
       "      <td>1</td>\n",
       "      <td>0</td>\n",
       "      <td>0</td>\n",
       "      <td>...</td>\n",
       "      <td>0</td>\n",
       "      <td>0</td>\n",
       "      <td>1</td>\n",
       "      <td>1</td>\n",
       "      <td>0</td>\n",
       "      <td>1</td>\n",
       "      <td>0</td>\n",
       "      <td>1</td>\n",
       "      <td>0</td>\n",
       "      <td>0</td>\n",
       "    </tr>\n",
       "    <tr>\n",
       "      <th>8</th>\n",
       "      <td>54.42</td>\n",
       "      <td>0.500</td>\n",
       "      <td>3.960</td>\n",
       "      <td>180</td>\n",
       "      <td>314</td>\n",
       "      <td>1</td>\n",
       "      <td>0</td>\n",
       "      <td>0</td>\n",
       "      <td>1</td>\n",
       "      <td>0</td>\n",
       "      <td>...</td>\n",
       "      <td>0</td>\n",
       "      <td>0</td>\n",
       "      <td>1</td>\n",
       "      <td>1</td>\n",
       "      <td>0</td>\n",
       "      <td>1</td>\n",
       "      <td>0</td>\n",
       "      <td>1</td>\n",
       "      <td>0</td>\n",
       "      <td>0</td>\n",
       "    </tr>\n",
       "    <tr>\n",
       "      <th>9</th>\n",
       "      <td>42.5</td>\n",
       "      <td>4.915</td>\n",
       "      <td>3.165</td>\n",
       "      <td>52</td>\n",
       "      <td>960</td>\n",
       "      <td>1</td>\n",
       "      <td>0</td>\n",
       "      <td>0</td>\n",
       "      <td>1</td>\n",
       "      <td>0</td>\n",
       "      <td>...</td>\n",
       "      <td>0</td>\n",
       "      <td>0</td>\n",
       "      <td>1</td>\n",
       "      <td>1</td>\n",
       "      <td>0</td>\n",
       "      <td>0</td>\n",
       "      <td>1</td>\n",
       "      <td>1</td>\n",
       "      <td>0</td>\n",
       "      <td>0</td>\n",
       "    </tr>\n",
       "  </tbody>\n",
       "</table>\n",
       "<p>10 rows × 52 columns</p>\n",
       "</div>"
      ],
      "text/plain": [
       "      C2      C3     C8  C14  C15  Renewal  C11  C1_a  C1_b  C1_xyz  ...  \\\n",
       "0  30.83   0.000  1.250  202    0        1    1     0     1       0  ...   \n",
       "1  58.67   4.460  3.040   43  560        1    6     1     0       0  ...   \n",
       "2   24.5   0.500  1.500  280  824        1    0     1     0       0  ...   \n",
       "3  27.83   1.540  3.750  100    3        1    5     0     1       0  ...   \n",
       "4  20.17   5.625  1.710  120    0        1    0     0     1       0  ...   \n",
       "5  32.08   4.000  2.500  360    0        1    0     0     1       0  ...   \n",
       "6  33.17   1.040  6.290  164  960        1    0     0     1       0  ...   \n",
       "7  22.92  11.585  0.040   80  960        1    0     1     0       0  ...   \n",
       "8  54.42   0.500  3.960  180  314        1    0     0     1       0  ...   \n",
       "9   42.5   4.915  3.165   52  960        1    0     0     1       0  ...   \n",
       "\n",
       "   C7_z  C9_f  C9_t  C10_f  C10_t  C12_f  C12_t  C13_g  C13_p  C13_s  \n",
       "0     0     0     1      0      1      1      0      1      0      0  \n",
       "1     0     0     1      0      1      1      0      1      0      0  \n",
       "2     0     0     1      1      0      1      0      1      0      0  \n",
       "3     0     0     1      0      1      0      1      1      0      0  \n",
       "4     0     0     1      1      0      1      0      0      0      1  \n",
       "5     0     0     1      1      0      0      1      1      0      0  \n",
       "6     0     0     1      1      0      0      1      1      0      0  \n",
       "7     0     0     1      1      0      1      0      1      0      0  \n",
       "8     0     0     1      1      0      1      0      1      0      0  \n",
       "9     0     0     1      1      0      0      1      1      0      0  \n",
       "\n",
       "[10 rows x 52 columns]"
      ]
     },
     "execution_count": 35,
     "metadata": {},
     "output_type": "execute_result"
    }
   ],
   "source": [
    "one_hot=pd.get_dummies(df[categorical_columns]) # It converts categorical data into dummy or indicator variables.\n",
    "insur_procsd_df=pd.concat([df[numeric_columns],one_hot],axis=1)\n",
    "insur_procsd_df.head(10)"
   ]
  },
  {
   "cell_type": "code",
   "execution_count": 36,
   "metadata": {
    "scrolled": true
   },
   "outputs": [
    {
     "data": {
      "text/html": [
       "<div>\n",
       "<style scoped>\n",
       "    .dataframe tbody tr th:only-of-type {\n",
       "        vertical-align: middle;\n",
       "    }\n",
       "\n",
       "    .dataframe tbody tr th {\n",
       "        vertical-align: top;\n",
       "    }\n",
       "\n",
       "    .dataframe thead th {\n",
       "        text-align: right;\n",
       "    }\n",
       "</style>\n",
       "<table border=\"1\" class=\"dataframe\">\n",
       "  <thead>\n",
       "    <tr style=\"text-align: right;\">\n",
       "      <th></th>\n",
       "      <th>C1</th>\n",
       "      <th>C2</th>\n",
       "      <th>C3</th>\n",
       "      <th>C4</th>\n",
       "      <th>C5</th>\n",
       "      <th>C6</th>\n",
       "      <th>C7</th>\n",
       "      <th>C8</th>\n",
       "      <th>C9</th>\n",
       "      <th>C10</th>\n",
       "      <th>C11</th>\n",
       "      <th>C12</th>\n",
       "      <th>C13</th>\n",
       "      <th>C14</th>\n",
       "      <th>C15</th>\n",
       "      <th>Renewal</th>\n",
       "    </tr>\n",
       "  </thead>\n",
       "  <tbody>\n",
       "    <tr>\n",
       "      <th>0</th>\n",
       "      <td>1</td>\n",
       "      <td>30.83</td>\n",
       "      <td>0.000</td>\n",
       "      <td>1</td>\n",
       "      <td>0</td>\n",
       "      <td>12</td>\n",
       "      <td>7</td>\n",
       "      <td>1.250</td>\n",
       "      <td>1</td>\n",
       "      <td>1</td>\n",
       "      <td>1</td>\n",
       "      <td>0</td>\n",
       "      <td>0</td>\n",
       "      <td>202</td>\n",
       "      <td>0</td>\n",
       "      <td>1</td>\n",
       "    </tr>\n",
       "    <tr>\n",
       "      <th>1</th>\n",
       "      <td>0</td>\n",
       "      <td>58.67</td>\n",
       "      <td>4.460</td>\n",
       "      <td>1</td>\n",
       "      <td>0</td>\n",
       "      <td>10</td>\n",
       "      <td>3</td>\n",
       "      <td>3.040</td>\n",
       "      <td>1</td>\n",
       "      <td>1</td>\n",
       "      <td>6</td>\n",
       "      <td>0</td>\n",
       "      <td>0</td>\n",
       "      <td>43</td>\n",
       "      <td>560</td>\n",
       "      <td>1</td>\n",
       "    </tr>\n",
       "    <tr>\n",
       "      <th>2</th>\n",
       "      <td>0</td>\n",
       "      <td>24.5</td>\n",
       "      <td>0.500</td>\n",
       "      <td>1</td>\n",
       "      <td>0</td>\n",
       "      <td>10</td>\n",
       "      <td>3</td>\n",
       "      <td>1.500</td>\n",
       "      <td>1</td>\n",
       "      <td>0</td>\n",
       "      <td>0</td>\n",
       "      <td>0</td>\n",
       "      <td>0</td>\n",
       "      <td>280</td>\n",
       "      <td>824</td>\n",
       "      <td>1</td>\n",
       "    </tr>\n",
       "    <tr>\n",
       "      <th>3</th>\n",
       "      <td>1</td>\n",
       "      <td>27.83</td>\n",
       "      <td>1.540</td>\n",
       "      <td>1</td>\n",
       "      <td>0</td>\n",
       "      <td>12</td>\n",
       "      <td>7</td>\n",
       "      <td>3.750</td>\n",
       "      <td>1</td>\n",
       "      <td>1</td>\n",
       "      <td>5</td>\n",
       "      <td>1</td>\n",
       "      <td>0</td>\n",
       "      <td>100</td>\n",
       "      <td>3</td>\n",
       "      <td>1</td>\n",
       "    </tr>\n",
       "    <tr>\n",
       "      <th>4</th>\n",
       "      <td>1</td>\n",
       "      <td>20.17</td>\n",
       "      <td>5.625</td>\n",
       "      <td>1</td>\n",
       "      <td>0</td>\n",
       "      <td>12</td>\n",
       "      <td>7</td>\n",
       "      <td>1.710</td>\n",
       "      <td>1</td>\n",
       "      <td>0</td>\n",
       "      <td>0</td>\n",
       "      <td>0</td>\n",
       "      <td>2</td>\n",
       "      <td>120</td>\n",
       "      <td>0</td>\n",
       "      <td>1</td>\n",
       "    </tr>\n",
       "    <tr>\n",
       "      <th>5</th>\n",
       "      <td>1</td>\n",
       "      <td>32.08</td>\n",
       "      <td>4.000</td>\n",
       "      <td>1</td>\n",
       "      <td>0</td>\n",
       "      <td>9</td>\n",
       "      <td>7</td>\n",
       "      <td>2.500</td>\n",
       "      <td>1</td>\n",
       "      <td>0</td>\n",
       "      <td>0</td>\n",
       "      <td>1</td>\n",
       "      <td>0</td>\n",
       "      <td>360</td>\n",
       "      <td>0</td>\n",
       "      <td>1</td>\n",
       "    </tr>\n",
       "    <tr>\n",
       "      <th>6</th>\n",
       "      <td>1</td>\n",
       "      <td>33.17</td>\n",
       "      <td>1.040</td>\n",
       "      <td>1</td>\n",
       "      <td>0</td>\n",
       "      <td>11</td>\n",
       "      <td>3</td>\n",
       "      <td>6.290</td>\n",
       "      <td>1</td>\n",
       "      <td>0</td>\n",
       "      <td>0</td>\n",
       "      <td>1</td>\n",
       "      <td>0</td>\n",
       "      <td>164</td>\n",
       "      <td>960</td>\n",
       "      <td>1</td>\n",
       "    </tr>\n",
       "    <tr>\n",
       "      <th>7</th>\n",
       "      <td>0</td>\n",
       "      <td>22.92</td>\n",
       "      <td>11.585</td>\n",
       "      <td>1</td>\n",
       "      <td>0</td>\n",
       "      <td>2</td>\n",
       "      <td>7</td>\n",
       "      <td>0.040</td>\n",
       "      <td>1</td>\n",
       "      <td>0</td>\n",
       "      <td>0</td>\n",
       "      <td>0</td>\n",
       "      <td>0</td>\n",
       "      <td>80</td>\n",
       "      <td>960</td>\n",
       "      <td>1</td>\n",
       "    </tr>\n",
       "    <tr>\n",
       "      <th>8</th>\n",
       "      <td>1</td>\n",
       "      <td>54.42</td>\n",
       "      <td>0.500</td>\n",
       "      <td>3</td>\n",
       "      <td>2</td>\n",
       "      <td>8</td>\n",
       "      <td>3</td>\n",
       "      <td>3.960</td>\n",
       "      <td>1</td>\n",
       "      <td>0</td>\n",
       "      <td>0</td>\n",
       "      <td>0</td>\n",
       "      <td>0</td>\n",
       "      <td>180</td>\n",
       "      <td>314</td>\n",
       "      <td>1</td>\n",
       "    </tr>\n",
       "    <tr>\n",
       "      <th>9</th>\n",
       "      <td>1</td>\n",
       "      <td>42.5</td>\n",
       "      <td>4.915</td>\n",
       "      <td>3</td>\n",
       "      <td>2</td>\n",
       "      <td>12</td>\n",
       "      <td>7</td>\n",
       "      <td>3.165</td>\n",
       "      <td>1</td>\n",
       "      <td>0</td>\n",
       "      <td>0</td>\n",
       "      <td>1</td>\n",
       "      <td>0</td>\n",
       "      <td>52</td>\n",
       "      <td>960</td>\n",
       "      <td>1</td>\n",
       "    </tr>\n",
       "  </tbody>\n",
       "</table>\n",
       "</div>"
      ],
      "text/plain": [
       "   C1     C2      C3  C4  C5  C6  C7     C8  C9  C10  C11  C12  C13  C14  C15  \\\n",
       "0   1  30.83   0.000   1   0  12   7  1.250   1    1    1    0    0  202    0   \n",
       "1   0  58.67   4.460   1   0  10   3  3.040   1    1    6    0    0   43  560   \n",
       "2   0   24.5   0.500   1   0  10   3  1.500   1    0    0    0    0  280  824   \n",
       "3   1  27.83   1.540   1   0  12   7  3.750   1    1    5    1    0  100    3   \n",
       "4   1  20.17   5.625   1   0  12   7  1.710   1    0    0    0    2  120    0   \n",
       "5   1  32.08   4.000   1   0   9   7  2.500   1    0    0    1    0  360    0   \n",
       "6   1  33.17   1.040   1   0  11   3  6.290   1    0    0    1    0  164  960   \n",
       "7   0  22.92  11.585   1   0   2   7  0.040   1    0    0    0    0   80  960   \n",
       "8   1  54.42   0.500   3   2   8   3  3.960   1    0    0    0    0  180  314   \n",
       "9   1   42.5   4.915   3   2  12   7  3.165   1    0    0    1    0   52  960   \n",
       "\n",
       "   Renewal  \n",
       "0        1  \n",
       "1        1  \n",
       "2        1  \n",
       "3        1  \n",
       "4        1  \n",
       "5        1  \n",
       "6        1  \n",
       "7        1  \n",
       "8        1  \n",
       "9        1  "
      ]
     },
     "execution_count": 36,
     "metadata": {},
     "output_type": "execute_result"
    }
   ],
   "source": [
    "insr_procsd_df_label=df\n",
    "label_encoder = LabelEncoder()\n",
    "for i in categorical_columns:\n",
    "    insr_procsd_df_label[i] = label_encoder.fit_transform(insr_procsd_df_label[i])\n",
    "insr_procsd_df_label.head(10)"
   ]
  },
  {
   "cell_type": "markdown",
   "metadata": {},
   "source": [
    "# Feature Selection"
   ]
  },
  {
   "cell_type": "code",
   "execution_count": 37,
   "metadata": {},
   "outputs": [],
   "source": [
    "y=insr_procsd_df_label[\"Renewal\"]\n",
    "x=insr_procsd_df_label.drop('Renewal',axis=1)"
   ]
  },
  {
   "cell_type": "code",
   "execution_count": 38,
   "metadata": {},
   "outputs": [
    {
     "data": {
      "text/html": [
       "<div>\n",
       "<style scoped>\n",
       "    .dataframe tbody tr th:only-of-type {\n",
       "        vertical-align: middle;\n",
       "    }\n",
       "\n",
       "    .dataframe tbody tr th {\n",
       "        vertical-align: top;\n",
       "    }\n",
       "\n",
       "    .dataframe thead th {\n",
       "        text-align: right;\n",
       "    }\n",
       "</style>\n",
       "<table border=\"1\" class=\"dataframe\">\n",
       "  <thead>\n",
       "    <tr style=\"text-align: right;\">\n",
       "      <th></th>\n",
       "      <th>C1</th>\n",
       "      <th>C2</th>\n",
       "      <th>C3</th>\n",
       "      <th>C4</th>\n",
       "      <th>C5</th>\n",
       "      <th>C6</th>\n",
       "      <th>C7</th>\n",
       "      <th>C8</th>\n",
       "      <th>C9</th>\n",
       "      <th>C10</th>\n",
       "      <th>C11</th>\n",
       "      <th>C12</th>\n",
       "      <th>C13</th>\n",
       "      <th>C14</th>\n",
       "      <th>C15</th>\n",
       "    </tr>\n",
       "  </thead>\n",
       "  <tbody>\n",
       "    <tr>\n",
       "      <th>0</th>\n",
       "      <td>1</td>\n",
       "      <td>30.83</td>\n",
       "      <td>0.000</td>\n",
       "      <td>1</td>\n",
       "      <td>0</td>\n",
       "      <td>12</td>\n",
       "      <td>7</td>\n",
       "      <td>1.25</td>\n",
       "      <td>1</td>\n",
       "      <td>1</td>\n",
       "      <td>1</td>\n",
       "      <td>0</td>\n",
       "      <td>0</td>\n",
       "      <td>202</td>\n",
       "      <td>0</td>\n",
       "    </tr>\n",
       "    <tr>\n",
       "      <th>1</th>\n",
       "      <td>0</td>\n",
       "      <td>58.67</td>\n",
       "      <td>4.460</td>\n",
       "      <td>1</td>\n",
       "      <td>0</td>\n",
       "      <td>10</td>\n",
       "      <td>3</td>\n",
       "      <td>3.04</td>\n",
       "      <td>1</td>\n",
       "      <td>1</td>\n",
       "      <td>6</td>\n",
       "      <td>0</td>\n",
       "      <td>0</td>\n",
       "      <td>43</td>\n",
       "      <td>560</td>\n",
       "    </tr>\n",
       "    <tr>\n",
       "      <th>2</th>\n",
       "      <td>0</td>\n",
       "      <td>24.5</td>\n",
       "      <td>0.500</td>\n",
       "      <td>1</td>\n",
       "      <td>0</td>\n",
       "      <td>10</td>\n",
       "      <td>3</td>\n",
       "      <td>1.50</td>\n",
       "      <td>1</td>\n",
       "      <td>0</td>\n",
       "      <td>0</td>\n",
       "      <td>0</td>\n",
       "      <td>0</td>\n",
       "      <td>280</td>\n",
       "      <td>824</td>\n",
       "    </tr>\n",
       "    <tr>\n",
       "      <th>3</th>\n",
       "      <td>1</td>\n",
       "      <td>27.83</td>\n",
       "      <td>1.540</td>\n",
       "      <td>1</td>\n",
       "      <td>0</td>\n",
       "      <td>12</td>\n",
       "      <td>7</td>\n",
       "      <td>3.75</td>\n",
       "      <td>1</td>\n",
       "      <td>1</td>\n",
       "      <td>5</td>\n",
       "      <td>1</td>\n",
       "      <td>0</td>\n",
       "      <td>100</td>\n",
       "      <td>3</td>\n",
       "    </tr>\n",
       "    <tr>\n",
       "      <th>4</th>\n",
       "      <td>1</td>\n",
       "      <td>20.17</td>\n",
       "      <td>5.625</td>\n",
       "      <td>1</td>\n",
       "      <td>0</td>\n",
       "      <td>12</td>\n",
       "      <td>7</td>\n",
       "      <td>1.71</td>\n",
       "      <td>1</td>\n",
       "      <td>0</td>\n",
       "      <td>0</td>\n",
       "      <td>0</td>\n",
       "      <td>2</td>\n",
       "      <td>120</td>\n",
       "      <td>0</td>\n",
       "    </tr>\n",
       "  </tbody>\n",
       "</table>\n",
       "</div>"
      ],
      "text/plain": [
       "   C1     C2     C3  C4  C5  C6  C7    C8  C9  C10  C11  C12  C13  C14  C15\n",
       "0   1  30.83  0.000   1   0  12   7  1.25   1    1    1    0    0  202    0\n",
       "1   0  58.67  4.460   1   0  10   3  3.04   1    1    6    0    0   43  560\n",
       "2   0   24.5  0.500   1   0  10   3  1.50   1    0    0    0    0  280  824\n",
       "3   1  27.83  1.540   1   0  12   7  3.75   1    1    5    1    0  100    3\n",
       "4   1  20.17  5.625   1   0  12   7  1.71   1    0    0    0    2  120    0"
      ]
     },
     "execution_count": 38,
     "metadata": {},
     "output_type": "execute_result"
    }
   ],
   "source": [
    "x.head()"
   ]
  },
  {
   "cell_type": "code",
   "execution_count": 39,
   "metadata": {
    "scrolled": true
   },
   "outputs": [
    {
     "name": "stdout",
     "output_type": "stream",
     "text": [
      "Series([], Name: C2, dtype: object)\n"
     ]
    }
   ],
   "source": [
    "print(insr_procsd_df_label[insr_procsd_df_label['C2'] == '?']['C2'])"
   ]
  },
  {
   "cell_type": "code",
   "execution_count": 40,
   "metadata": {},
   "outputs": [
    {
     "data": {
      "text/plain": [
       "<bound method Series.unique of 0      1\n",
       "1      1\n",
       "2      1\n",
       "3      1\n",
       "4      1\n",
       "      ..\n",
       "685    0\n",
       "686    0\n",
       "687    0\n",
       "688    0\n",
       "689    0\n",
       "Name: Renewal, Length: 690, dtype: int64>"
      ]
     },
     "execution_count": 40,
     "metadata": {},
     "output_type": "execute_result"
    }
   ],
   "source": [
    "y.unique"
   ]
  },
  {
   "cell_type": "code",
   "execution_count": 41,
   "metadata": {},
   "outputs": [
    {
     "name": "stdout",
     "output_type": "stream",
     "text": [
      "(690, 15)\n",
      "(690,)\n"
     ]
    }
   ],
   "source": [
    "print(x.shape)\n",
    "print(y.shape)"
   ]
  },
  {
   "cell_type": "code",
   "execution_count": 42,
   "metadata": {},
   "outputs": [],
   "source": [
    "X_train, X_test, y_train, y_test = train_test_split(x, y, test_size=0.2, random_state=42, stratify=y)"
   ]
  },
  {
   "cell_type": "code",
   "execution_count": 43,
   "metadata": {},
   "outputs": [
    {
     "data": {
      "image/png": "[encoded data removed]",
      "text/plain": [
       "<Figure size 432x288 with 1 Axes>"
      ]
     },
     "metadata": {
      "needs_background": "light"
     },
     "output_type": "display_data"
    }
   ],
   "source": [
    "rf = RandomForestClassifier(n_estimators = 100, class_weight='balanced', random_state=42)\n",
    "rf.fit(x, y)\n",
    "importances = rf.feature_importances_\n",
    "indices = np.argsort(importances)[::-1]\n",
    "#print(indices)\n",
    "plt.figure()\n",
    "plt.title(\"Feature importances\")\n",
    "plt.bar(range(X_train.shape[1]), importances[indices],\n",
    "        color=\"blue\", align=\"center\")\n",
    "plt.xticks(range(X_train.shape[1]), insr_procsd_df_label.columns[indices], rotation=90)\n",
    "plt.xlim([-1, X_train.shape[1]])\n",
    "plt.show()"
   ]
  },
  {
   "cell_type": "code",
   "execution_count": 44,
   "metadata": {},
   "outputs": [],
   "source": [
    "x_features=['C9','C8','C11','C15','C3','C2','C14','C10','C6']"
   ]
  },
  {
   "cell_type": "code",
   "execution_count": 45,
   "metadata": {},
   "outputs": [],
   "source": [
    "x_final=insr_procsd_df_label[x_features]"
   ]
  },
  {
   "cell_type": "code",
   "execution_count": 46,
   "metadata": {},
   "outputs": [],
   "source": [
    "y_final=y"
   ]
  },
  {
   "cell_type": "code",
   "execution_count": 47,
   "metadata": {
    "scrolled": true
   },
   "outputs": [
    {
     "data": {
      "text/html": [
       "<div>\n",
       "<style scoped>\n",
       "    .dataframe tbody tr th:only-of-type {\n",
       "        vertical-align: middle;\n",
       "    }\n",
       "\n",
       "    .dataframe tbody tr th {\n",
       "        vertical-align: top;\n",
       "    }\n",
       "\n",
       "    .dataframe thead th {\n",
       "        text-align: right;\n",
       "    }\n",
       "</style>\n",
       "<table border=\"1\" class=\"dataframe\">\n",
       "  <thead>\n",
       "    <tr style=\"text-align: right;\">\n",
       "      <th></th>\n",
       "      <th>C9</th>\n",
       "      <th>C8</th>\n",
       "      <th>C11</th>\n",
       "      <th>C15</th>\n",
       "      <th>C3</th>\n",
       "      <th>C2</th>\n",
       "      <th>C14</th>\n",
       "      <th>C10</th>\n",
       "      <th>C6</th>\n",
       "    </tr>\n",
       "  </thead>\n",
       "  <tbody>\n",
       "    <tr>\n",
       "      <th>0</th>\n",
       "      <td>1</td>\n",
       "      <td>1.25</td>\n",
       "      <td>1</td>\n",
       "      <td>0</td>\n",
       "      <td>0.000</td>\n",
       "      <td>30.83</td>\n",
       "      <td>202</td>\n",
       "      <td>1</td>\n",
       "      <td>12</td>\n",
       "    </tr>\n",
       "    <tr>\n",
       "      <th>1</th>\n",
       "      <td>1</td>\n",
       "      <td>3.04</td>\n",
       "      <td>6</td>\n",
       "      <td>560</td>\n",
       "      <td>4.460</td>\n",
       "      <td>58.67</td>\n",
       "      <td>43</td>\n",
       "      <td>1</td>\n",
       "      <td>10</td>\n",
       "    </tr>\n",
       "    <tr>\n",
       "      <th>2</th>\n",
       "      <td>1</td>\n",
       "      <td>1.50</td>\n",
       "      <td>0</td>\n",
       "      <td>824</td>\n",
       "      <td>0.500</td>\n",
       "      <td>24.5</td>\n",
       "      <td>280</td>\n",
       "      <td>0</td>\n",
       "      <td>10</td>\n",
       "    </tr>\n",
       "    <tr>\n",
       "      <th>3</th>\n",
       "      <td>1</td>\n",
       "      <td>3.75</td>\n",
       "      <td>5</td>\n",
       "      <td>3</td>\n",
       "      <td>1.540</td>\n",
       "      <td>27.83</td>\n",
       "      <td>100</td>\n",
       "      <td>1</td>\n",
       "      <td>12</td>\n",
       "    </tr>\n",
       "    <tr>\n",
       "      <th>4</th>\n",
       "      <td>1</td>\n",
       "      <td>1.71</td>\n",
       "      <td>0</td>\n",
       "      <td>0</td>\n",
       "      <td>5.625</td>\n",
       "      <td>20.17</td>\n",
       "      <td>120</td>\n",
       "      <td>0</td>\n",
       "      <td>12</td>\n",
       "    </tr>\n",
       "  </tbody>\n",
       "</table>\n",
       "</div>"
      ],
      "text/plain": [
       "   C9    C8  C11  C15     C3     C2  C14  C10  C6\n",
       "0   1  1.25    1    0  0.000  30.83  202    1  12\n",
       "1   1  3.04    6  560  4.460  58.67   43    1  10\n",
       "2   1  1.50    0  824  0.500   24.5  280    0  10\n",
       "3   1  3.75    5    3  1.540  27.83  100    1  12\n",
       "4   1  1.71    0    0  5.625  20.17  120    0  12"
      ]
     },
     "execution_count": 47,
     "metadata": {},
     "output_type": "execute_result"
    }
   ],
   "source": [
    "x_final.head()"
   ]
  },
  {
   "cell_type": "markdown",
   "metadata": {},
   "source": [
    " splitting data into training set and testing set"
   ]
  },
  {
   "cell_type": "code",
   "execution_count": 48,
   "metadata": {},
   "outputs": [],
   "source": [
    "X_train,X_test,y_train,y_test = train_test_split(x_final,y_final,test_size = 0.20,random_state = 0)"
   ]
  },
  {
   "cell_type": "code",
   "execution_count": 49,
   "metadata": {},
   "outputs": [
    {
     "name": "stdout",
     "output_type": "stream",
     "text": [
      "X_train (552, 9)\n",
      "X_test (138, 9)\n",
      "y_train (552,)\n",
      "y_test (138,)\n"
     ]
    }
   ],
   "source": [
    "print('X_train',X_train.shape)\n",
    "print('X_test',X_test.shape)\n",
    "print('y_train',y_train.shape)\n",
    "print('y_test',y_test.shape)"
   ]
  },
  {
   "cell_type": "markdown",
   "metadata": {},
   "source": [
    "# Model Building"
   ]
  },
  {
   "cell_type": "markdown",
   "metadata": {},
   "source": [
    "Popular algorithms that can be used for binary classification include:\n",
    "\n",
    "👉Logistic Regression\n",
    "\n",
    "👉Random Forest Classifier\n",
    "\n",
    "👉Decision Trees\n"
   ]
  },
  {
   "cell_type": "markdown",
   "metadata": {},
   "source": [
    " Applying k-Fold Cross Validation to evaluate the model"
   ]
  },
  {
   "cell_type": "code",
   "execution_count": 50,
   "metadata": {},
   "outputs": [],
   "source": [
    "def k_fold(model,X_train,y_train):\n",
    "    accuracies = cross_val_score(estimator = model, X = X_train, y = y_train, cv = 10)\n",
    "    print('K-Fold cross validation mean:',accuracies.mean())\n",
    "    print('K-Fold cross validation std:',accuracies.std()) "
   ]
  },
  {
   "cell_type": "markdown",
   "metadata": {},
   "source": [
    "# Logistic Classifier"
   ]
  },
  {
   "cell_type": "code",
   "execution_count": 51,
   "metadata": {
    "scrolled": true
   },
   "outputs": [
    {
     "name": "stdout",
     "output_type": "stream",
     "text": [
      "Training time: 0.07429170608520508\n",
      "Accuracy:               precision    recall  f1-score   support\n",
      "\n",
      "           0       0.88      0.85      0.86        78\n",
      "           1       0.81      0.85      0.83        60\n",
      "\n",
      "    accuracy                           0.85       138\n",
      "   macro avg       0.84      0.85      0.85       138\n",
      "weighted avg       0.85      0.85      0.85       138\n",
      "\n"
     ]
    },
    {
     "name": "stderr",
     "output_type": "stream",
     "text": [
      "c:\\users\\lenovo\\appdata\\local\\programs\\python\\python36\\lib\\site-packages\\sklearn\\linear_model\\_logistic.py:764: ConvergenceWarning: lbfgs failed to converge (status=1):\n",
      "STOP: TOTAL NO. of ITERATIONS REACHED LIMIT.\n",
      "\n",
      "Increase the number of iterations (max_iter) or scale the data as shown in:\n",
      "    https://scikit-learn.org/stable/modules/preprocessing.html\n",
      "Please also refer to the documentation for alternative solver options:\n",
      "    https://scikit-learn.org/stable/modules/linear_model.html#logistic-regression\n",
      "  extra_warning_msg=_LOGISTIC_SOLVER_CONVERGENCE_MSG)\n"
     ]
    }
   ],
   "source": [
    "# LogisticRegression classifier\n",
    "\n",
    "model_1 = LogisticRegression(random_state=0)\n",
    "\n",
    "# train model\n",
    "start = time()\n",
    "model_1.fit(X_train, y_train)\n",
    "end = time()\n",
    "\n",
    "# Training time\n",
    "print('Training time:',end-start)\n",
    "\n",
    "# Making predictions\n",
    "y_pred = model_1.predict(X_test)\n",
    "\n",
    "# get a sense of performance\n",
    "accuracy_1 = classification_report(y_test,y_pred)\n",
    "print('Accuracy:',accuracy_1)\n",
    "\n",
    "\n"
   ]
  },
  {
   "cell_type": "markdown",
   "metadata": {},
   "source": [
    "Evaluation Of Model "
   ]
  },
  {
   "cell_type": "code",
   "execution_count": 52,
   "metadata": {},
   "outputs": [
    {
     "name": "stdout",
     "output_type": "stream",
     "text": [
      "\n",
      "Confusion matrix: Train data\n"
     ]
    },
    {
     "data": {
      "image/png": "[encoded data removed]",
      "text/plain": [
       "<Figure size 432x288 with 1 Axes>"
      ]
     },
     "metadata": {
      "needs_background": "light"
     },
     "output_type": "display_data"
    }
   ],
   "source": [
    "cm_te = confusion_matrix(y_test, y_pred)\n",
    "\n",
    "print()\n",
    "print(\"Confusion matrix: Train data\")\n",
    "ax= plt.subplot()\n",
    "sns.heatmap(cm_te,annot=True,fmt='1g',cbar = False,cmap = 'YlOrRd')\n",
    "ax.set_xlabel('Predicted Class Labels');\n",
    "ax.set_ylabel('Actual Class Labels');\n",
    "ax.set_title('Confusion-Matrix: Test');\n",
    "plt.show()"
   ]
  },
  {
   "cell_type": "markdown",
   "metadata": {},
   "source": [
    "# Random Forest Classifier"
   ]
  },
  {
   "cell_type": "code",
   "execution_count": 53,
   "metadata": {
    "scrolled": true
   },
   "outputs": [
    {
     "name": "stdout",
     "output_type": "stream",
     "text": [
      "==================================\n",
      "Fitting RandomForest classifier\n",
      "==================================\n",
      "Training time: 0.05056929588317871\n",
      "Accuracy:               precision    recall  f1-score   support\n",
      "\n",
      "           0       0.88      0.85      0.86        78\n",
      "           1       0.81      0.85      0.83        60\n",
      "\n",
      "    accuracy                           0.85       138\n",
      "   macro avg       0.84      0.85      0.85       138\n",
      "weighted avg       0.85      0.85      0.85       138\n",
      "\n"
     ]
    }
   ],
   "source": [
    "print('==================================')\n",
    "print('Fitting RandomForest classifier')\n",
    "print('==================================')\n",
    "\n",
    "\n",
    "model_2 = RandomForestClassifier(n_estimators = 10, criterion = 'entropy', random_state = 0)\n",
    "\n",
    "# train model\n",
    "start = time()\n",
    "model_2.fit(X_train, y_train) \n",
    "end = time()\n",
    "\n",
    "# Training time\n",
    "print('Training time:',end-start)  \n",
    "# Making prediction\n",
    "\n",
    "y_pred_random = model_2.predict(X_test)\n",
    "\n",
    "# get a  sense of performance\n",
    "accuracy_2 = classification_report(y_test,y_pred)\n",
    "print('Accuracy:',accuracy_2)"
   ]
  },
  {
   "cell_type": "markdown",
   "metadata": {},
   "source": [
    "Evaluation Of Model "
   ]
  },
  {
   "cell_type": "code",
   "execution_count": 55,
   "metadata": {},
   "outputs": [
    {
     "name": "stdout",
     "output_type": "stream",
     "text": [
      "\n",
      "Confusion matrix: Train data\n"
     ]
    },
    {
     "data": {
      "image/png": "[encoded data removed]",
      "text/plain": [
       "<Figure size 432x288 with 1 Axes>"
      ]
     },
     "metadata": {
      "needs_background": "light"
     },
     "output_type": "display_data"
    }
   ],
   "source": [
    "cm_te = confusion_matrix(y_test, y_pred_random)\n",
    "\n",
    "print()\n",
    "print(\"Confusion matrix: Train data\")\n",
    "ax= plt.subplot()\n",
    "sns.heatmap(cm_te,annot=True,fmt='1g',cbar = False,cmap = 'YlOrRd')\n",
    "ax.set_xlabel('Predicted Class Labels');\n",
    "ax.set_ylabel('Actual Class Labels');\n",
    "ax.set_title('Confusion-Matrix: Test');\n",
    "plt.show()"
   ]
  },
  {
   "cell_type": "markdown",
   "metadata": {},
   "source": [
    "# Decision Tree"
   ]
  },
  {
   "cell_type": "code",
   "execution_count": 56,
   "metadata": {
    "scrolled": true
   },
   "outputs": [
    {
     "name": "stdout",
     "output_type": "stream",
     "text": [
      "==================================\n",
      "Decision classfier classifier\n",
      "==================================\n",
      "Training time: 0.01056814193725586\n",
      "Decision tree accuracy:               precision    recall  f1-score   support\n",
      "\n",
      "           0       0.88      0.85      0.86        78\n",
      "           1       0.81      0.85      0.83        60\n",
      "\n",
      "    accuracy                           0.85       138\n",
      "   macro avg       0.84      0.85      0.85       138\n",
      "weighted avg       0.85      0.85      0.85       138\n",
      "\n"
     ]
    }
   ],
   "source": [
    "print('==================================')\n",
    "print('Decision classfier classifier')\n",
    "print('==================================')\n",
    "\n",
    "# instantiate model\n",
    "model_3 = DecisionTreeClassifier(criterion = 'entropy', random_state = 0)\n",
    "\n",
    "# train model\n",
    "start = time()\n",
    "model_3.fit(X_train, y_train) \n",
    "end = time()\n",
    "\n",
    "# Training time\n",
    "print('Training time:',end-start) \n",
    "\n",
    "# Making prediction\n",
    "y_pred_tree = model_3.predict(X_test)\n",
    "\n",
    "# get a sense of performance\n",
    "accuracy_3 = classification_report(y_test,y_pred)\n",
    "print('Decision tree accuracy:',accuracy_3)\n",
    "\n"
   ]
  },
  {
   "cell_type": "markdown",
   "metadata": {},
   "source": [
    "Evalution Of model"
   ]
  },
  {
   "cell_type": "code",
   "execution_count": 57,
   "metadata": {},
   "outputs": [
    {
     "name": "stdout",
     "output_type": "stream",
     "text": [
      "\n",
      "Confusion matrix: Train data\n"
     ]
    },
    {
     "data": {
      "image/png": "[encoded data removed]",
      "text/plain": [
       "<Figure size 432x288 with 1 Axes>"
      ]
     },
     "metadata": {
      "needs_background": "light"
     },
     "output_type": "display_data"
    }
   ],
   "source": [
    "cm_te = confusion_matrix(y_test, y_pred_random)\n",
    "\n",
    "print()\n",
    "print(\"Confusion matrix: Train data\")\n",
    "ax= plt.subplot()\n",
    "sns.heatmap(cm_te,annot=True,fmt='1g',cbar = False,cmap = 'YlOrRd')\n",
    "ax.set_xlabel('Predicted Class Labels');\n",
    "ax.set_ylabel('Actual Class Labels');\n",
    "ax.set_title('Confusion-Matrix: Test');\n",
    "plt.show()"
   ]
  },
  {
   "cell_type": "code",
   "execution_count": 58,
   "metadata": {},
   "outputs": [
    {
     "name": "stdout",
     "output_type": "stream",
     "text": [
      "best accuracy 0.8514935064935063\n",
      "best parameters {'C': 0.1, 'penalty': 'l2'}\n"
     ]
    },
    {
     "name": "stderr",
     "output_type": "stream",
     "text": [
      "c:\\users\\lenovo\\appdata\\local\\programs\\python\\python36\\lib\\site-packages\\sklearn\\linear_model\\_logistic.py:764: ConvergenceWarning: lbfgs failed to converge (status=1):\n",
      "STOP: TOTAL NO. of ITERATIONS REACHED LIMIT.\n",
      "\n",
      "Increase the number of iterations (max_iter) or scale the data as shown in:\n",
      "    https://scikit-learn.org/stable/modules/preprocessing.html\n",
      "Please also refer to the documentation for alternative solver options:\n",
      "    https://scikit-learn.org/stable/modules/linear_model.html#logistic-regression\n",
      "  extra_warning_msg=_LOGISTIC_SOLVER_CONVERGENCE_MSG)\n"
     ]
    }
   ],
   "source": [
    "# seems we will be working with logistic regression\n",
    "# Applying Grid Search to find the best model and the best parameters\n",
    "parameters = [{'C': [0.1,1, 10, 100],'penalty': ['l1','l2']}]\n",
    "grid_search = GridSearchCV(estimator = model_1,\n",
    "                           param_grid = parameters,\n",
    "                           scoring = 'accuracy',\n",
    "                           cv = 10,\n",
    "                           n_jobs = -1)\n",
    "grid_search = grid_search.fit(X_train, y_train)\n",
    "best_accuracy = grid_search.best_score_\n",
    "best_parameters = grid_search.best_params_\n",
    "best_model = grid_search.best_estimator_\n",
    "\n",
    "print('best accuracy',best_accuracy)\n",
    "print('best parameters',best_parameters)"
   ]
  },
  {
   "cell_type": "code",
   "execution_count": null,
   "metadata": {},
   "outputs": [],
   "source": []
  },
  {
   "cell_type": "code",
   "execution_count": null,
   "metadata": {},
   "outputs": [],
   "source": []
  },
  {
   "cell_type": "code",
   "execution_count": null,
   "metadata": {},
   "outputs": [],
   "source": []
  }
 ],
 "metadata": {
  "kernelspec": {
   "display_name": "Python 3",
   "language": "python",
   "name": "python3"
  },
  "language_info": {
   "codemirror_mode": {
    "name": "ipython",
    "version": 3
   },
   "file_extension": ".py",
   "mimetype": "text/x-python",
   "name": "python",
   "nbconvert_exporter": "python",
   "pygments_lexer": "ipython3",
   "version": "3.6.3"
  }
 },
 "nbformat": 4,
 "nbformat_minor": 4
}
